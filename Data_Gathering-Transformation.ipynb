{
 "cells": [
  {
   "cell_type": "code",
   "execution_count": 684,
   "id": "e5b324ab",
   "metadata": {},
   "outputs": [],
   "source": [
    "# Libraries\n",
    "import pandas as pd\n",
    "from paths_ import Path\n",
    "import numpy as np"
   ]
  },
  {
   "cell_type": "markdown",
   "id": "b532445a",
   "metadata": {},
   "source": [
    "## read dataset"
   ]
  },
  {
   "cell_type": "code",
   "execution_count": 685,
   "id": "806ba4f7",
   "metadata": {},
   "outputs": [],
   "source": [
    "twitter = Path().readfile()"
   ]
  },
  {
   "cell_type": "code",
   "execution_count": 686,
   "id": "9c573b29",
   "metadata": {},
   "outputs": [],
   "source": [
    "#print(twitter)"
   ]
  },
  {
   "cell_type": "markdown",
   "id": "a73e8085",
   "metadata": {},
   "source": [
    "## Create dataframe"
   ]
  },
  {
   "cell_type": "code",
   "execution_count": 687,
   "id": "048683e6",
   "metadata": {},
   "outputs": [],
   "source": [
    "df_read = pd.read_csv(twitter)\n",
    "df = df_read.copy(deep=True)"
   ]
  },
  {
   "cell_type": "markdown",
   "id": "fb92f351",
   "metadata": {},
   "source": [
    "## Data Gathering & Transformation\n",
    "This is set of setps to figure aout how the data is comming. It is starting to see the shape of the dataframe"
   ]
  },
  {
   "cell_type": "code",
   "execution_count": 688,
   "id": "27eb120e",
   "metadata": {},
   "outputs": [
    {
     "data": {
      "text/plain": [
       "(1726, 25)"
      ]
     },
     "execution_count": 688,
     "metadata": {},
     "output_type": "execute_result"
    }
   ],
   "source": [
    "df.shape"
   ]
  },
  {
   "cell_type": "markdown",
   "id": "5083960d",
   "metadata": {},
   "source": [
    "Then, explore the data of the datafrem visualizing a few lines for example 5 of them randomly"
   ]
  },
  {
   "cell_type": "code",
   "execution_count": 689,
   "id": "c46ded06",
   "metadata": {
    "scrolled": true
   },
   "outputs": [],
   "source": [
    "# df.sample(5)"
   ]
  },
  {
   "cell_type": "markdown",
   "id": "96dc89b0",
   "metadata": {},
   "source": [
    "Then, list all the columns to start by recognizing more details"
   ]
  },
  {
   "cell_type": "code",
   "execution_count": 690,
   "id": "5ccb7a95",
   "metadata": {
    "scrolled": true
   },
   "outputs": [],
   "source": [
    "# df.columns"
   ]
  },
  {
   "cell_type": "markdown",
   "id": "80bea9af",
   "metadata": {},
   "source": [
    "Explore the types of each field"
   ]
  },
  {
   "cell_type": "code",
   "execution_count": 691,
   "id": "4d81c919",
   "metadata": {
    "scrolled": true
   },
   "outputs": [],
   "source": [
    "# df.dtypes"
   ]
  },
  {
   "cell_type": "markdown",
   "id": "b65a85c7",
   "metadata": {},
   "source": [
    "Explore some fields like: source, sentiment_value, lang, lat,lng, etc"
   ]
  },
  {
   "cell_type": "code",
   "execution_count": 692,
   "id": "3d291880",
   "metadata": {},
   "outputs": [],
   "source": [
    "# df['source'].unique()"
   ]
  },
  {
   "cell_type": "markdown",
   "id": "c4b7bbb8",
   "metadata": {},
   "source": [
    "### Replace NaN values on numerical fields"
   ]
  },
  {
   "cell_type": "code",
   "execution_count": 693,
   "id": "74847fe7",
   "metadata": {},
   "outputs": [],
   "source": [
    "class FillNaN:\n",
    "    def __init__(self,dataframe) -> None:\n",
    "        self.dataframe = dataframe\n",
    "\n",
    "    def fill_numerical(self):\n",
    "        self.numerical_column_list = self.dataframe.dtypes[(self.dataframe.dtypes == 'int64') | (self.dataframe.dtypes == 'float64')].index\n",
    "\n",
    "        for col in self.numerical_column_list:\n",
    "            self.dataframe[col].replace(np.nan,0,inplace=True)\n",
    "\n",
    "        return self.dataframe"
   ]
  },
  {
   "cell_type": "code",
   "execution_count": 694,
   "id": "1ffd416a",
   "metadata": {},
   "outputs": [],
   "source": [
    "replace_null = FillNaN(df).fill_numerical()"
   ]
  },
  {
   "cell_type": "markdown",
   "id": "497228d0",
   "metadata": {},
   "source": [
    "Watch the outcome"
   ]
  },
  {
   "cell_type": "code",
   "execution_count": 695,
   "id": "0a545c40",
   "metadata": {},
   "outputs": [],
   "source": [
    "# df.head(5)"
   ]
  },
  {
   "cell_type": "markdown",
   "id": "633adf27",
   "metadata": {},
   "source": [
    "### Split City values into City and country fields"
   ]
  },
  {
   "cell_type": "code",
   "execution_count": 696,
   "id": "c19e55e9",
   "metadata": {},
   "outputs": [],
   "source": [
    "# Split City into City and country\n",
    "df[['City','country']] = df['City'].str.split(',',1,expand=True)"
   ]
  },
  {
   "cell_type": "markdown",
   "id": "dcabea72",
   "metadata": {},
   "source": [
    "### Replace invalid location descriptions"
   ]
  },
  {
   "cell_type": "code",
   "execution_count": 697,
   "id": "01a175f6",
   "metadata": {},
   "outputs": [
    {
     "data": {
      "text/plain": [
       "array(['Mexico', 'Netherlands', 'Egypt', 'Italy', 'Philippines', 'Spain',\n",
       "       'Romania', 'Colombia', 'Kenya', 'Denmark', 'New Zealand',\n",
       "       'Luxembourg', 'Peru', 'Cuba', 'Japan', 'Greece', 'Belize',\n",
       "       'Dominican Republic', 'Argentina', 'Chile', 'Costa Rica',\n",
       "       'United States', 'Nigeria', 'Switzerland', 'Poland', 'Ecuador',\n",
       "       None, 'Hungary', 'South Africa', 'Korea, South', 'Angola',\n",
       "       'Ireland', 'Germany', 'Sweden', 'Senegal', 'France', 'Finland',\n",
       "       'Croatia', ' and wild boar', 'Belgium', 'Andorra', 'Bolivia',\n",
       "       'Hong Kong'], dtype=object)"
      ]
     },
     "execution_count": 697,
     "metadata": {},
     "output_type": "execute_result"
    }
   ],
   "source": [
    "df['country'].unique()"
   ]
  },
  {
   "cell_type": "markdown",
   "id": "3e2cdcf0",
   "metadata": {},
   "source": [
    "There is an invalid name:' and wild boar'"
   ]
  },
  {
   "cell_type": "code",
   "execution_count": 698,
   "id": "6901a310",
   "metadata": {},
   "outputs": [
    {
     "data": {
      "text/html": [
       "<div>\n",
       "<style scoped>\n",
       "    .dataframe tbody tr th:only-of-type {\n",
       "        vertical-align: middle;\n",
       "    }\n",
       "\n",
       "    .dataframe tbody tr th {\n",
       "        vertical-align: top;\n",
       "    }\n",
       "\n",
       "    .dataframe thead th {\n",
       "        text-align: right;\n",
       "    }\n",
       "</style>\n",
       "<table border=\"1\" class=\"dataframe\">\n",
       "  <thead>\n",
       "    <tr style=\"text-align: right;\">\n",
       "      <th></th>\n",
       "      <th>user_id</th>\n",
       "      <th>status_id</th>\n",
       "      <th>created_at</th>\n",
       "      <th>screen_name</th>\n",
       "      <th>text</th>\n",
       "      <th>source</th>\n",
       "      <th>reply_to_status_id</th>\n",
       "      <th>reply_to_user_id</th>\n",
       "      <th>is_retweet</th>\n",
       "      <th>favorite_count</th>\n",
       "      <th>...</th>\n",
       "      <th>statuses_count</th>\n",
       "      <th>favourites_count</th>\n",
       "      <th>account_created_at</th>\n",
       "      <th>verified</th>\n",
       "      <th>sentiment_value</th>\n",
       "      <th>sentiment_dictionary</th>\n",
       "      <th>lat</th>\n",
       "      <th>lng</th>\n",
       "      <th>City</th>\n",
       "      <th>country</th>\n",
       "    </tr>\n",
       "  </thead>\n",
       "  <tbody>\n",
       "    <tr>\n",
       "      <th>272</th>\n",
       "      <td>8.710000e+17</td>\n",
       "      <td>1.430000e+18</td>\n",
       "      <td>Aug 9, 2021</td>\n",
       "      <td>NeilSalter4</td>\n",
       "      <td>We use 30 year averages to show climatology (a...</td>\n",
       "      <td>Twitter for Android</td>\n",
       "      <td>0.0</td>\n",
       "      <td>0.0</td>\n",
       "      <td>1</td>\n",
       "      <td>0</td>\n",
       "      <td>...</td>\n",
       "      <td>67556</td>\n",
       "      <td>101844</td>\n",
       "      <td>04/06/2017 13:59</td>\n",
       "      <td>0</td>\n",
       "      <td>-5</td>\n",
       "      <td>AFINN</td>\n",
       "      <td>-2.8974</td>\n",
       "      <td>-79.0045</td>\n",
       "      <td>With my family</td>\n",
       "      <td>and wild boar</td>\n",
       "    </tr>\n",
       "  </tbody>\n",
       "</table>\n",
       "<p>1 rows × 26 columns</p>\n",
       "</div>"
      ],
      "text/plain": [
       "          user_id     status_id   created_at  screen_name  \\\n",
       "272  8.710000e+17  1.430000e+18  Aug 9, 2021  NeilSalter4   \n",
       "\n",
       "                                                  text               source  \\\n",
       "272  We use 30 year averages to show climatology (a...  Twitter for Android   \n",
       "\n",
       "     reply_to_status_id  reply_to_user_id  is_retweet  favorite_count  ...  \\\n",
       "272                 0.0               0.0           1               0  ...   \n",
       "\n",
       "     statuses_count favourites_count account_created_at verified  \\\n",
       "272           67556           101844   04/06/2017 13:59        0   \n",
       "\n",
       "     sentiment_value  sentiment_dictionary     lat      lng            City  \\\n",
       "272               -5                 AFINN -2.8974 -79.0045  With my family   \n",
       "\n",
       "            country  \n",
       "272   and wild boar  \n",
       "\n",
       "[1 rows x 26 columns]"
      ]
     },
     "execution_count": 698,
     "metadata": {},
     "output_type": "execute_result"
    }
   ],
   "source": [
    "df[df['country'] == ' and wild boar']"
   ]
  },
  {
   "cell_type": "markdown",
   "id": "f316e424",
   "metadata": {},
   "source": [
    "These coordinates(-2.8974,-79.0045), belong at Cuenca city in Ecuador. [map](https://www.google.com/maps/place/2%C2%B053'50.6%22S+79%C2%B000'16.2%22W/@-2.8989529,-79.0279408,13.82z/data=!4m4!3m3!8m2!3d-2.8974!4d-79.0045)"
   ]
  },
  {
   "cell_type": "code",
   "execution_count": 699,
   "id": "805f9528",
   "metadata": {},
   "outputs": [],
   "source": [
    "df['country'].replace({' and wild boar':'Ecuador'},inplace=True)"
   ]
  },
  {
   "cell_type": "code",
   "execution_count": 700,
   "id": "580af210",
   "metadata": {},
   "outputs": [],
   "source": [
    "df['City'].replace({'With my family':'Cuenca'},inplace=True)"
   ]
  },
  {
   "cell_type": "code",
   "execution_count": 701,
   "id": "0c4fae31",
   "metadata": {},
   "outputs": [
    {
     "data": {
      "text/plain": [
       "user_id                                              871000000000000000.0\n",
       "status_id                                           1430000000000000000.0\n",
       "created_at                                                    Aug 9, 2021\n",
       "screen_name                                                   NeilSalter4\n",
       "text                    We use 30 year averages to show climatology (a...\n",
       "source                                                Twitter for Android\n",
       "reply_to_status_id                                                    0.0\n",
       "reply_to_user_id                                                      0.0\n",
       "is_retweet                                                              1\n",
       "favorite_count                                                          0\n",
       "retweet_count                                                         679\n",
       "lang                                                                   en\n",
       "name                                                          Neil Salter\n",
       "description             #ecosocialism #socialism #MMT \\nNo surrender t...\n",
       "followers_count                                                      4771\n",
       "friends_count                                                        5249\n",
       "statuses_count                                                      67556\n",
       "favourites_count                                                   101844\n",
       "account_created_at                                       04/06/2017 13:59\n",
       "verified                                                                0\n",
       "sentiment_value                                                        -5\n",
       "sentiment_dictionary                                                AFINN\n",
       "lat                                                               -2.8974\n",
       "lng                                                              -79.0045\n",
       "City                                                               Cuenca\n",
       "country                                                           Ecuador\n",
       "Name: 272, dtype: object"
      ]
     },
     "execution_count": 701,
     "metadata": {},
     "output_type": "execute_result"
    }
   ],
   "source": [
    "df.loc[272]"
   ]
  },
  {
   "cell_type": "code",
   "execution_count": 702,
   "id": "169bdb0a",
   "metadata": {
    "scrolled": true
   },
   "outputs": [
    {
     "data": {
      "text/plain": [
       "array(['Mexico', 'Netherlands', 'Egypt', 'Italy', 'Philippines', 'Spain',\n",
       "       'Romania', 'Colombia', 'Kenya', 'Denmark', 'New Zealand',\n",
       "       'Luxembourg', 'Peru', 'Cuba', 'Japan', 'Greece', 'Belize',\n",
       "       'Dominican Republic', 'Argentina', 'Chile', 'Costa Rica',\n",
       "       'United States', 'Nigeria', 'Switzerland', 'Poland', 'Ecuador',\n",
       "       None, 'Hungary', 'South Africa', 'Korea, South', 'Angola',\n",
       "       'Ireland', 'Germany', 'Sweden', 'Senegal', 'France', 'Finland',\n",
       "       'Croatia', 'Belgium', 'Andorra', 'Bolivia', 'Hong Kong'],\n",
       "      dtype=object)"
      ]
     },
     "execution_count": 702,
     "metadata": {},
     "output_type": "execute_result"
    }
   ],
   "source": [
    "df['country'].unique()"
   ]
  },
  {
   "cell_type": "markdown",
   "id": "2c828fb6",
   "metadata": {},
   "source": [
    "### Rename column 'lng' to 'lon'"
   ]
  },
  {
   "cell_type": "code",
   "execution_count": 703,
   "id": "99f9d367",
   "metadata": {},
   "outputs": [],
   "source": [
    "# rename column lng\n",
    "df = df.rename(columns={'lng':'lon'})"
   ]
  },
  {
   "cell_type": "markdown",
   "id": "b96fdaa4",
   "metadata": {},
   "source": [
    "### Format column's date"
   ]
  },
  {
   "cell_type": "code",
   "execution_count": 704,
   "id": "12b6a347",
   "metadata": {},
   "outputs": [],
   "source": [
    "# format column's date\n",
    "# df[['account_created_at','created_at']]\n",
    "df['created_at'] = pd.to_datetime(df['created_at'])\n",
    "df['account_created_at'] = pd.to_datetime(df['account_created_at'])"
   ]
  },
  {
   "cell_type": "code",
   "execution_count": 705,
   "id": "61f1fdd7",
   "metadata": {
    "scrolled": false
   },
   "outputs": [],
   "source": [
    "# df.dtypes"
   ]
  },
  {
   "cell_type": "markdown",
   "id": "6c07b51b",
   "metadata": {},
   "source": [
    "### source - classification as user or a Bot\n",
    "\n",
    "The characters \"bot\" and \"Bot\", both remain on some source data values. They can be at the begining, at the end or between other characters. For this reason It will be applied regex methods to classify and create a new field that show if the source comes from an User or a Bot."
   ]
  },
  {
   "cell_type": "code",
   "execution_count": 706,
   "id": "04919330",
   "metadata": {},
   "outputs": [],
   "source": [
    "import re\n",
    "\n",
    "class User_or_bot:\n",
    "    def __init__(self):\n",
    "        self.sourceList = list(df['source'])\n",
    "        self.is_userList = []\n",
    "    \n",
    "    def user_evaluation(self):      \n",
    "        \n",
    "        for i in range(0,len(self.sourceList)):\n",
    "    \n",
    "            if re.search(\"bot|Bot\",self.sourceList[i]):\n",
    "                self.is_userList.append('Bot')\n",
    "            else:\n",
    "                self.is_userList.append('User')\n",
    "        \n",
    "        return self.is_userList"
   ]
  },
  {
   "cell_type": "code",
   "execution_count": 707,
   "id": "887274f7",
   "metadata": {},
   "outputs": [],
   "source": [
    "df['user_or_bot'] = User_or_bot().user_evaluation()"
   ]
  },
  {
   "cell_type": "code",
   "execution_count": 708,
   "id": "4d018763",
   "metadata": {},
   "outputs": [
    {
     "data": {
      "text/plain": [
       "array(['User', 'Bot'], dtype=object)"
      ]
     },
     "execution_count": 708,
     "metadata": {},
     "output_type": "execute_result"
    }
   ],
   "source": [
    "df['user_or_bot'].unique()"
   ]
  },
  {
   "cell_type": "markdown",
   "id": "c1dc5e77",
   "metadata": {},
   "source": [
    "### Clasificación de sentiment_value"
   ]
  },
  {
   "cell_type": "code",
   "execution_count": 709,
   "id": "71d4a09c",
   "metadata": {},
   "outputs": [],
   "source": [
    "# aplicar codigo para clasificar los valores de sentiment_value\n",
    "sentimentList = []\n",
    "for value in list(df['sentiment_value']):\n",
    "    if value > 0:\n",
    "        sentimentList.append('Positive') \n",
    "    elif value < 0:\n",
    "        sentimentList.append('Negative') \n",
    "    else:\n",
    "        sentimentList.append('Neutral') "
   ]
  },
  {
   "cell_type": "code",
   "execution_count": 710,
   "id": "0546bdaa",
   "metadata": {},
   "outputs": [],
   "source": [
    "# print(sentimentList)\n",
    "df['sentiment'] = sentimentList"
   ]
  },
  {
   "cell_type": "code",
   "execution_count": 711,
   "id": "b34b542f",
   "metadata": {},
   "outputs": [
    {
     "data": {
      "text/plain": [
       "array(['Positive', 'Negative', 'Neutral'], dtype=object)"
      ]
     },
     "execution_count": 711,
     "metadata": {},
     "output_type": "execute_result"
    }
   ],
   "source": [
    "\n",
    "df['sentiment'].unique()"
   ]
  },
  {
   "cell_type": "code",
   "execution_count": 712,
   "id": "d5c7068f",
   "metadata": {
    "scrolled": true
   },
   "outputs": [
    {
     "data": {
      "text/html": [
       "<div>\n",
       "<style scoped>\n",
       "    .dataframe tbody tr th:only-of-type {\n",
       "        vertical-align: middle;\n",
       "    }\n",
       "\n",
       "    .dataframe tbody tr th {\n",
       "        vertical-align: top;\n",
       "    }\n",
       "\n",
       "    .dataframe thead th {\n",
       "        text-align: right;\n",
       "    }\n",
       "</style>\n",
       "<table border=\"1\" class=\"dataframe\">\n",
       "  <thead>\n",
       "    <tr style=\"text-align: right;\">\n",
       "      <th></th>\n",
       "      <th>user_id</th>\n",
       "      <th>status_id</th>\n",
       "      <th>created_at</th>\n",
       "      <th>screen_name</th>\n",
       "      <th>text</th>\n",
       "      <th>source</th>\n",
       "      <th>reply_to_status_id</th>\n",
       "      <th>reply_to_user_id</th>\n",
       "      <th>is_retweet</th>\n",
       "      <th>favorite_count</th>\n",
       "      <th>...</th>\n",
       "      <th>account_created_at</th>\n",
       "      <th>verified</th>\n",
       "      <th>sentiment_value</th>\n",
       "      <th>sentiment_dictionary</th>\n",
       "      <th>lat</th>\n",
       "      <th>lon</th>\n",
       "      <th>City</th>\n",
       "      <th>country</th>\n",
       "      <th>user_or_bot</th>\n",
       "      <th>sentiment</th>\n",
       "    </tr>\n",
       "  </thead>\n",
       "  <tbody>\n",
       "    <tr>\n",
       "      <th>402</th>\n",
       "      <td>1.380000e+18</td>\n",
       "      <td>1.430000e+18</td>\n",
       "      <td>2021-08-13</td>\n",
       "      <td>DarkVad87684447</td>\n",
       "      <td>There is little, at present, in the way of dig...</td>\n",
       "      <td>Twitter for Android</td>\n",
       "      <td>0.0</td>\n",
       "      <td>0.0</td>\n",
       "      <td>1</td>\n",
       "      <td>0</td>\n",
       "      <td>...</td>\n",
       "      <td>2021-12-04 09:11:00</td>\n",
       "      <td>0</td>\n",
       "      <td>-3</td>\n",
       "      <td>AFINN</td>\n",
       "      <td>41.8931</td>\n",
       "      <td>12.4828</td>\n",
       "      <td>Rome</td>\n",
       "      <td>Italy</td>\n",
       "      <td>User</td>\n",
       "      <td>Negative</td>\n",
       "    </tr>\n",
       "    <tr>\n",
       "      <th>1317</th>\n",
       "      <td>2.388017e+09</td>\n",
       "      <td>1.430000e+18</td>\n",
       "      <td>2021-08-20</td>\n",
       "      <td>danielegenito</td>\n",
       "      <td>Non ho capito questo cambio di grafica dall’az...</td>\n",
       "      <td>Twitter for Android</td>\n",
       "      <td>0.0</td>\n",
       "      <td>0.0</td>\n",
       "      <td>1</td>\n",
       "      <td>0</td>\n",
       "      <td>...</td>\n",
       "      <td>2014-03-13 22:47:00</td>\n",
       "      <td>0</td>\n",
       "      <td>-4</td>\n",
       "      <td>AFINN</td>\n",
       "      <td>37.3900</td>\n",
       "      <td>-5.9900</td>\n",
       "      <td>Sevilla</td>\n",
       "      <td>Spain</td>\n",
       "      <td>User</td>\n",
       "      <td>Negative</td>\n",
       "    </tr>\n",
       "    <tr>\n",
       "      <th>577</th>\n",
       "      <td>1.360000e+18</td>\n",
       "      <td>1.430000e+18</td>\n",
       "      <td>2021-08-17</td>\n",
       "      <td>Jackdanielllss</td>\n",
       "      <td>⚽️ Brentford \\n\\n✅ Ascender a la máxima catego...</td>\n",
       "      <td>Twitter for iPhone</td>\n",
       "      <td>0.0</td>\n",
       "      <td>0.0</td>\n",
       "      <td>1</td>\n",
       "      <td>0</td>\n",
       "      <td>...</td>\n",
       "      <td>2021-02-18 22:14:00</td>\n",
       "      <td>0</td>\n",
       "      <td>-4</td>\n",
       "      <td>AFINN</td>\n",
       "      <td>24.0889</td>\n",
       "      <td>32.8997</td>\n",
       "      <td>Aswān</td>\n",
       "      <td>Egypt</td>\n",
       "      <td>User</td>\n",
       "      <td>Negative</td>\n",
       "    </tr>\n",
       "  </tbody>\n",
       "</table>\n",
       "<p>3 rows × 28 columns</p>\n",
       "</div>"
      ],
      "text/plain": [
       "           user_id     status_id created_at      screen_name  \\\n",
       "402   1.380000e+18  1.430000e+18 2021-08-13  DarkVad87684447   \n",
       "1317  2.388017e+09  1.430000e+18 2021-08-20    danielegenito   \n",
       "577   1.360000e+18  1.430000e+18 2021-08-17   Jackdanielllss   \n",
       "\n",
       "                                                   text               source  \\\n",
       "402   There is little, at present, in the way of dig...  Twitter for Android   \n",
       "1317  Non ho capito questo cambio di grafica dall’az...  Twitter for Android   \n",
       "577   ⚽️ Brentford \\n\\n✅ Ascender a la máxima catego...   Twitter for iPhone   \n",
       "\n",
       "      reply_to_status_id  reply_to_user_id  is_retweet  favorite_count  ...  \\\n",
       "402                  0.0               0.0           1               0  ...   \n",
       "1317                 0.0               0.0           1               0  ...   \n",
       "577                  0.0               0.0           1               0  ...   \n",
       "\n",
       "      account_created_at verified sentiment_value sentiment_dictionary  \\\n",
       "402  2021-12-04 09:11:00        0              -3                AFINN   \n",
       "1317 2014-03-13 22:47:00        0              -4                AFINN   \n",
       "577  2021-02-18 22:14:00        0              -4                AFINN   \n",
       "\n",
       "          lat      lon      City  country user_or_bot  sentiment  \n",
       "402   41.8931  12.4828     Rome     Italy        User   Negative  \n",
       "1317  37.3900  -5.9900  Sevilla     Spain        User   Negative  \n",
       "577   24.0889  32.8997    Aswān     Egypt        User   Negative  \n",
       "\n",
       "[3 rows x 28 columns]"
      ]
     },
     "execution_count": 712,
     "metadata": {},
     "output_type": "execute_result"
    }
   ],
   "source": [
    "df.sample(3)"
   ]
  },
  {
   "cell_type": "markdown",
   "id": "cd9ffd93",
   "metadata": {},
   "source": [
    "### Year - Month"
   ]
  },
  {
   "cell_type": "code",
   "execution_count": 713,
   "id": "5b2079fd",
   "metadata": {},
   "outputs": [],
   "source": [
    "def year():\n",
    "    year = []\n",
    "    for y in df['created_at'].astype(str):\n",
    "        year.append(y[:4])\n",
    "        \n",
    "    return year\n",
    "    "
   ]
  },
  {
   "cell_type": "code",
   "execution_count": 714,
   "id": "cbc2571a",
   "metadata": {},
   "outputs": [],
   "source": [
    "df['year'] = year()"
   ]
  },
  {
   "cell_type": "code",
   "execution_count": 715,
   "id": "be659142",
   "metadata": {},
   "outputs": [],
   "source": [
    "def month():\n",
    "    monthNum = []\n",
    "    for m in df['created_at'].astype(str):\n",
    "        monthNum.append(m[5:7])\n",
    "                \n",
    "    return monthNum"
   ]
  },
  {
   "cell_type": "code",
   "execution_count": 716,
   "id": "af34dc26",
   "metadata": {},
   "outputs": [],
   "source": [
    "df['month_num'] = month_num()"
   ]
  },
  {
   "cell_type": "code",
   "execution_count": 717,
   "id": "319808dd",
   "metadata": {},
   "outputs": [],
   "source": [
    "df['month'] = df['month_num'].replace(['01','02','03','04','05','06','07','08','09','10','11','12'],['January','February','March','April','May','June','July','August','September','October','November','December'])"
   ]
  },
  {
   "cell_type": "code",
   "execution_count": 733,
   "id": "bdb5d93d",
   "metadata": {},
   "outputs": [],
   "source": [
    "# df['created_at'].unique()"
   ]
  },
  {
   "cell_type": "code",
   "execution_count": 718,
   "id": "75c10dd7",
   "metadata": {},
   "outputs": [
    {
     "data": {
      "text/html": [
       "<div>\n",
       "<style scoped>\n",
       "    .dataframe tbody tr th:only-of-type {\n",
       "        vertical-align: middle;\n",
       "    }\n",
       "\n",
       "    .dataframe tbody tr th {\n",
       "        vertical-align: top;\n",
       "    }\n",
       "\n",
       "    .dataframe thead th {\n",
       "        text-align: right;\n",
       "    }\n",
       "</style>\n",
       "<table border=\"1\" class=\"dataframe\">\n",
       "  <thead>\n",
       "    <tr style=\"text-align: right;\">\n",
       "      <th></th>\n",
       "      <th>user_id</th>\n",
       "      <th>status_id</th>\n",
       "      <th>created_at</th>\n",
       "      <th>screen_name</th>\n",
       "      <th>text</th>\n",
       "      <th>source</th>\n",
       "      <th>reply_to_status_id</th>\n",
       "      <th>reply_to_user_id</th>\n",
       "      <th>is_retweet</th>\n",
       "      <th>favorite_count</th>\n",
       "      <th>...</th>\n",
       "      <th>sentiment_dictionary</th>\n",
       "      <th>lat</th>\n",
       "      <th>lon</th>\n",
       "      <th>City</th>\n",
       "      <th>country</th>\n",
       "      <th>user_or_bot</th>\n",
       "      <th>sentiment</th>\n",
       "      <th>year</th>\n",
       "      <th>month_num</th>\n",
       "      <th>month</th>\n",
       "    </tr>\n",
       "  </thead>\n",
       "  <tbody>\n",
       "    <tr>\n",
       "      <th>612</th>\n",
       "      <td>8.613719e+07</td>\n",
       "      <td>1.430000e+18</td>\n",
       "      <td>2021-08-15</td>\n",
       "      <td>Wall_e_Eva</td>\n",
       "      <td>Descripción gráfica de cómo me veo cuando me d...</td>\n",
       "      <td>Twitter for Android</td>\n",
       "      <td>0.000000e+00</td>\n",
       "      <td>0.000000e+00</td>\n",
       "      <td>0</td>\n",
       "      <td>1</td>\n",
       "      <td>...</td>\n",
       "      <td>AFINN</td>\n",
       "      <td>46.5833</td>\n",
       "      <td>26.9167</td>\n",
       "      <td>Bacău</td>\n",
       "      <td>Romania</td>\n",
       "      <td>User</td>\n",
       "      <td>Negative</td>\n",
       "      <td>2021</td>\n",
       "      <td>08</td>\n",
       "      <td>August</td>\n",
       "    </tr>\n",
       "    <tr>\n",
       "      <th>1361</th>\n",
       "      <td>2.263701e+08</td>\n",
       "      <td>1.430000e+18</td>\n",
       "      <td>2021-08-20</td>\n",
       "      <td>GretaForse</td>\n",
       "      <td>@ila_b612 Non accetto lezioni di grafica da ch...</td>\n",
       "      <td>Twitter for Android</td>\n",
       "      <td>1.430000e+18</td>\n",
       "      <td>8.830000e+17</td>\n",
       "      <td>0</td>\n",
       "      <td>0</td>\n",
       "      <td>...</td>\n",
       "      <td>AFINN</td>\n",
       "      <td>-1.0833</td>\n",
       "      <td>35.8667</td>\n",
       "      <td>Narok</td>\n",
       "      <td>Kenya</td>\n",
       "      <td>User</td>\n",
       "      <td>Positive</td>\n",
       "      <td>2021</td>\n",
       "      <td>08</td>\n",
       "      <td>August</td>\n",
       "    </tr>\n",
       "    <tr>\n",
       "      <th>80</th>\n",
       "      <td>2.564489e+09</td>\n",
       "      <td>1.430000e+18</td>\n",
       "      <td>2021-08-16</td>\n",
       "      <td>Berekade</td>\n",
       "      <td>We use 30 year averages to show climatology (a...</td>\n",
       "      <td>Twitter for iPhone</td>\n",
       "      <td>0.000000e+00</td>\n",
       "      <td>0.000000e+00</td>\n",
       "      <td>1</td>\n",
       "      <td>0</td>\n",
       "      <td>...</td>\n",
       "      <td>AFINN</td>\n",
       "      <td>45.1047</td>\n",
       "      <td>24.3756</td>\n",
       "      <td>Râmnicu Vâlcea</td>\n",
       "      <td>Romania</td>\n",
       "      <td>User</td>\n",
       "      <td>Negative</td>\n",
       "      <td>2021</td>\n",
       "      <td>08</td>\n",
       "      <td>August</td>\n",
       "    </tr>\n",
       "  </tbody>\n",
       "</table>\n",
       "<p>3 rows × 31 columns</p>\n",
       "</div>"
      ],
      "text/plain": [
       "           user_id     status_id created_at screen_name  \\\n",
       "612   8.613719e+07  1.430000e+18 2021-08-15  Wall_e_Eva   \n",
       "1361  2.263701e+08  1.430000e+18 2021-08-20  GretaForse   \n",
       "80    2.564489e+09  1.430000e+18 2021-08-16    Berekade   \n",
       "\n",
       "                                                   text               source  \\\n",
       "612   Descripción gráfica de cómo me veo cuando me d...  Twitter for Android   \n",
       "1361  @ila_b612 Non accetto lezioni di grafica da ch...  Twitter for Android   \n",
       "80    We use 30 year averages to show climatology (a...   Twitter for iPhone   \n",
       "\n",
       "      reply_to_status_id  reply_to_user_id  is_retweet  favorite_count  ...  \\\n",
       "612         0.000000e+00      0.000000e+00           0               1  ...   \n",
       "1361        1.430000e+18      8.830000e+17           0               0  ...   \n",
       "80          0.000000e+00      0.000000e+00           1               0  ...   \n",
       "\n",
       "      sentiment_dictionary      lat      lon             City  country  \\\n",
       "612                  AFINN  46.5833  26.9167           Bacău   Romania   \n",
       "1361                 AFINN  -1.0833  35.8667           Narok     Kenya   \n",
       "80                   AFINN  45.1047  24.3756  Râmnicu Vâlcea   Romania   \n",
       "\n",
       "      user_or_bot  sentiment  year month_num   month  \n",
       "612          User   Negative  2021        08  August  \n",
       "1361         User   Positive  2021        08  August  \n",
       "80           User   Negative  2021        08  August  \n",
       "\n",
       "[3 rows x 31 columns]"
      ]
     },
     "execution_count": 718,
     "metadata": {},
     "output_type": "execute_result"
    }
   ],
   "source": [
    "df.sample(3)"
   ]
  },
  {
   "cell_type": "markdown",
   "id": "058a69ba",
   "metadata": {},
   "source": [
    "### Is retweet\n",
    "Replace values 0,1 to False and True"
   ]
  },
  {
   "cell_type": "code",
   "execution_count": 719,
   "id": "2ebdf6ec",
   "metadata": {},
   "outputs": [],
   "source": [
    "df['is_retweet'] = df['is_retweet'].replace({0:False,1:True})"
   ]
  },
  {
   "cell_type": "code",
   "execution_count": 720,
   "id": "0e69888a",
   "metadata": {},
   "outputs": [
    {
     "data": {
      "text/plain": [
       "array([False,  True])"
      ]
     },
     "execution_count": 720,
     "metadata": {},
     "output_type": "execute_result"
    }
   ],
   "source": [
    "df['is_retweet'].unique()"
   ]
  },
  {
   "cell_type": "code",
   "execution_count": 721,
   "id": "76ff9f0a",
   "metadata": {
    "scrolled": true
   },
   "outputs": [
    {
     "data": {
      "text/html": [
       "<div>\n",
       "<style scoped>\n",
       "    .dataframe tbody tr th:only-of-type {\n",
       "        vertical-align: middle;\n",
       "    }\n",
       "\n",
       "    .dataframe tbody tr th {\n",
       "        vertical-align: top;\n",
       "    }\n",
       "\n",
       "    .dataframe thead th {\n",
       "        text-align: right;\n",
       "    }\n",
       "</style>\n",
       "<table border=\"1\" class=\"dataframe\">\n",
       "  <thead>\n",
       "    <tr style=\"text-align: right;\">\n",
       "      <th></th>\n",
       "      <th>user_id</th>\n",
       "      <th>status_id</th>\n",
       "      <th>created_at</th>\n",
       "      <th>screen_name</th>\n",
       "      <th>text</th>\n",
       "      <th>source</th>\n",
       "      <th>reply_to_status_id</th>\n",
       "      <th>reply_to_user_id</th>\n",
       "      <th>is_retweet</th>\n",
       "      <th>favorite_count</th>\n",
       "      <th>...</th>\n",
       "      <th>sentiment_dictionary</th>\n",
       "      <th>lat</th>\n",
       "      <th>lon</th>\n",
       "      <th>City</th>\n",
       "      <th>country</th>\n",
       "      <th>user_or_bot</th>\n",
       "      <th>sentiment</th>\n",
       "      <th>year</th>\n",
       "      <th>month_num</th>\n",
       "      <th>month</th>\n",
       "    </tr>\n",
       "  </thead>\n",
       "  <tbody>\n",
       "    <tr>\n",
       "      <th>547</th>\n",
       "      <td>3.223626e+08</td>\n",
       "      <td>1.430000e+18</td>\n",
       "      <td>2021-08-08</td>\n",
       "      <td>Sabuli_2007</td>\n",
       "      <td>Como no abre bien en Instagram, les pongo la c...</td>\n",
       "      <td>Twitter for iPhone</td>\n",
       "      <td>0.000000e+00</td>\n",
       "      <td>0.000000e+00</td>\n",
       "      <td>True</td>\n",
       "      <td>0</td>\n",
       "      <td>...</td>\n",
       "      <td>AFINN</td>\n",
       "      <td>44.5469</td>\n",
       "      <td>15.3744</td>\n",
       "      <td>Gospić</td>\n",
       "      <td>Croatia</td>\n",
       "      <td>User</td>\n",
       "      <td>Positive</td>\n",
       "      <td>2021</td>\n",
       "      <td>08</td>\n",
       "      <td>August</td>\n",
       "    </tr>\n",
       "    <tr>\n",
       "      <th>1081</th>\n",
       "      <td>1.250000e+18</td>\n",
       "      <td>1.430000e+18</td>\n",
       "      <td>2021-08-19</td>\n",
       "      <td>M4RSBAEK</td>\n",
       "      <td>alcune sono veramente mozzafiato, anche oggi m...</td>\n",
       "      <td>Twitter for iPhone</td>\n",
       "      <td>1.430000e+18</td>\n",
       "      <td>1.250000e+18</td>\n",
       "      <td>False</td>\n",
       "      <td>0</td>\n",
       "      <td>...</td>\n",
       "      <td>AFINN</td>\n",
       "      <td>-17.3935</td>\n",
       "      <td>-66.1570</td>\n",
       "      <td>Cochabamba</td>\n",
       "      <td>Bolivia</td>\n",
       "      <td>User</td>\n",
       "      <td>Negative</td>\n",
       "      <td>2021</td>\n",
       "      <td>08</td>\n",
       "      <td>August</td>\n",
       "    </tr>\n",
       "    <tr>\n",
       "      <th>969</th>\n",
       "      <td>8.760350e+07</td>\n",
       "      <td>1.430000e+18</td>\n",
       "      <td>2021-08-14</td>\n",
       "      <td>carohidalgo</td>\n",
       "      <td>@INE_Chile @cndu_chile ▶️ Tal como se muestra ...</td>\n",
       "      <td>Twitter for Android</td>\n",
       "      <td>0.000000e+00</td>\n",
       "      <td>0.000000e+00</td>\n",
       "      <td>True</td>\n",
       "      <td>0</td>\n",
       "      <td>...</td>\n",
       "      <td>AFINN</td>\n",
       "      <td>-4.0500</td>\n",
       "      <td>39.6667</td>\n",
       "      <td>Mombasa</td>\n",
       "      <td>Kenya</td>\n",
       "      <td>User</td>\n",
       "      <td>Negative</td>\n",
       "      <td>2021</td>\n",
       "      <td>08</td>\n",
       "      <td>August</td>\n",
       "    </tr>\n",
       "  </tbody>\n",
       "</table>\n",
       "<p>3 rows × 31 columns</p>\n",
       "</div>"
      ],
      "text/plain": [
       "           user_id     status_id created_at  screen_name  \\\n",
       "547   3.223626e+08  1.430000e+18 2021-08-08  Sabuli_2007   \n",
       "1081  1.250000e+18  1.430000e+18 2021-08-19     M4RSBAEK   \n",
       "969   8.760350e+07  1.430000e+18 2021-08-14  carohidalgo   \n",
       "\n",
       "                                                   text               source  \\\n",
       "547   Como no abre bien en Instagram, les pongo la c...   Twitter for iPhone   \n",
       "1081  alcune sono veramente mozzafiato, anche oggi m...   Twitter for iPhone   \n",
       "969   @INE_Chile @cndu_chile ▶️ Tal como se muestra ...  Twitter for Android   \n",
       "\n",
       "      reply_to_status_id  reply_to_user_id  is_retweet  favorite_count  ...  \\\n",
       "547         0.000000e+00      0.000000e+00        True               0  ...   \n",
       "1081        1.430000e+18      1.250000e+18       False               0  ...   \n",
       "969         0.000000e+00      0.000000e+00        True               0  ...   \n",
       "\n",
       "      sentiment_dictionary      lat      lon         City  country  \\\n",
       "547                  AFINN  44.5469  15.3744      Gospić   Croatia   \n",
       "1081                 AFINN -17.3935 -66.1570  Cochabamba   Bolivia   \n",
       "969                  AFINN  -4.0500  39.6667     Mombasa     Kenya   \n",
       "\n",
       "      user_or_bot  sentiment  year month_num   month  \n",
       "547          User   Positive  2021        08  August  \n",
       "1081         User   Negative  2021        08  August  \n",
       "969          User   Negative  2021        08  August  \n",
       "\n",
       "[3 rows x 31 columns]"
      ]
     },
     "execution_count": 721,
     "metadata": {},
     "output_type": "execute_result"
    }
   ],
   "source": [
    "df.sample(3)"
   ]
  },
  {
   "cell_type": "markdown",
   "id": "f26486b4",
   "metadata": {},
   "source": [
    "In order to standardize values, score should be calculated for Retweet and Favorite :\n",
    "* Score Retweet: ([retweet_count]-[Retweet_MIN])/([Retweet_MAX]-[Retweet_MIN])\n",
    "* Score Favorite: ([favorite_count]-[Favorite_MIN])/([Favorite_MAX]-[Favorite_MIN])"
   ]
  },
  {
   "cell_type": "code",
   "execution_count": 722,
   "id": "4e5a1a67",
   "metadata": {},
   "outputs": [],
   "source": [
    "retween_min = df['retweet_count'].min()"
   ]
  },
  {
   "cell_type": "code",
   "execution_count": 723,
   "id": "90ae4b5f",
   "metadata": {},
   "outputs": [],
   "source": [
    "retween_max = df['retweet_count'].max()"
   ]
  },
  {
   "cell_type": "code",
   "execution_count": 724,
   "id": "aead6eb9",
   "metadata": {},
   "outputs": [],
   "source": [
    "df['score_retweet'] = (df['retweet_count'] - retween_min) / (retween_max - retween_min) "
   ]
  },
  {
   "cell_type": "code",
   "execution_count": 725,
   "id": "25b0d18d",
   "metadata": {},
   "outputs": [],
   "source": [
    "favorite_min = df['favorite_count'].min()"
   ]
  },
  {
   "cell_type": "code",
   "execution_count": 726,
   "id": "368d737b",
   "metadata": {},
   "outputs": [],
   "source": [
    "favorite_max = df['favorite_count'].max()"
   ]
  },
  {
   "cell_type": "code",
   "execution_count": 727,
   "id": "fbfe33ab",
   "metadata": {},
   "outputs": [],
   "source": [
    "df['score_favorite'] = (df['favorite_count'] - favorite_min) / (favorite_max - favorite_min)"
   ]
  },
  {
   "cell_type": "code",
   "execution_count": 728,
   "id": "7a194f55",
   "metadata": {
    "scrolled": true
   },
   "outputs": [
    {
     "data": {
      "text/html": [
       "<div>\n",
       "<style scoped>\n",
       "    .dataframe tbody tr th:only-of-type {\n",
       "        vertical-align: middle;\n",
       "    }\n",
       "\n",
       "    .dataframe tbody tr th {\n",
       "        vertical-align: top;\n",
       "    }\n",
       "\n",
       "    .dataframe thead th {\n",
       "        text-align: right;\n",
       "    }\n",
       "</style>\n",
       "<table border=\"1\" class=\"dataframe\">\n",
       "  <thead>\n",
       "    <tr style=\"text-align: right;\">\n",
       "      <th></th>\n",
       "      <th>user_id</th>\n",
       "      <th>status_id</th>\n",
       "      <th>created_at</th>\n",
       "      <th>screen_name</th>\n",
       "      <th>text</th>\n",
       "      <th>source</th>\n",
       "      <th>reply_to_status_id</th>\n",
       "      <th>reply_to_user_id</th>\n",
       "      <th>is_retweet</th>\n",
       "      <th>favorite_count</th>\n",
       "      <th>...</th>\n",
       "      <th>lon</th>\n",
       "      <th>City</th>\n",
       "      <th>country</th>\n",
       "      <th>user_or_bot</th>\n",
       "      <th>sentiment</th>\n",
       "      <th>year</th>\n",
       "      <th>month_num</th>\n",
       "      <th>month</th>\n",
       "      <th>score_retweet</th>\n",
       "      <th>score_favorite</th>\n",
       "    </tr>\n",
       "  </thead>\n",
       "  <tbody>\n",
       "    <tr>\n",
       "      <th>191</th>\n",
       "      <td>5.751116e+08</td>\n",
       "      <td>1.430000e+18</td>\n",
       "      <td>2021-08-26</td>\n",
       "      <td>nicolemark_</td>\n",
       "      <td>@priyankadobhal_ I don’t think my employer car...</td>\n",
       "      <td>Twitter for iPhone</td>\n",
       "      <td>1.430000e+18</td>\n",
       "      <td>1.070000e+18</td>\n",
       "      <td>False</td>\n",
       "      <td>0</td>\n",
       "      <td>...</td>\n",
       "      <td>19.4547</td>\n",
       "      <td>Łódź</td>\n",
       "      <td>Poland</td>\n",
       "      <td>User</td>\n",
       "      <td>Negative</td>\n",
       "      <td>2021</td>\n",
       "      <td>08</td>\n",
       "      <td>August</td>\n",
       "      <td>0.000000</td>\n",
       "      <td>0.000000</td>\n",
       "    </tr>\n",
       "    <tr>\n",
       "      <th>1001</th>\n",
       "      <td>1.400000e+18</td>\n",
       "      <td>1.430000e+18</td>\n",
       "      <td>2021-08-24</td>\n",
       "      <td>knmloml</td>\n",
       "      <td>@mmaadwia che paura scritta cosi con questa gr...</td>\n",
       "      <td>Twitter for Android</td>\n",
       "      <td>1.430000e+18</td>\n",
       "      <td>1.400000e+18</td>\n",
       "      <td>False</td>\n",
       "      <td>1</td>\n",
       "      <td>...</td>\n",
       "      <td>11.0328</td>\n",
       "      <td>Erfurt</td>\n",
       "      <td>Germany</td>\n",
       "      <td>User</td>\n",
       "      <td>Positive</td>\n",
       "      <td>2021</td>\n",
       "      <td>08</td>\n",
       "      <td>August</td>\n",
       "      <td>0.000000</td>\n",
       "      <td>0.002865</td>\n",
       "    </tr>\n",
       "    <tr>\n",
       "      <th>1556</th>\n",
       "      <td>1.260000e+18</td>\n",
       "      <td>1.420000e+18</td>\n",
       "      <td>2021-08-18</td>\n",
       "      <td>fahimmoledina7</td>\n",
       "      <td>50 Best Python Course for #Developers \\n\\nhttp...</td>\n",
       "      <td>TwinyBots</td>\n",
       "      <td>0.000000e+00</td>\n",
       "      <td>0.000000e+00</td>\n",
       "      <td>True</td>\n",
       "      <td>0</td>\n",
       "      <td>...</td>\n",
       "      <td>-75.3958</td>\n",
       "      <td>Sincelejo</td>\n",
       "      <td>Colombia</td>\n",
       "      <td>Bot</td>\n",
       "      <td>Negative</td>\n",
       "      <td>2021</td>\n",
       "      <td>08</td>\n",
       "      <td>August</td>\n",
       "      <td>0.006372</td>\n",
       "      <td>0.000000</td>\n",
       "    </tr>\n",
       "  </tbody>\n",
       "</table>\n",
       "<p>3 rows × 33 columns</p>\n",
       "</div>"
      ],
      "text/plain": [
       "           user_id     status_id created_at     screen_name  \\\n",
       "191   5.751116e+08  1.430000e+18 2021-08-26     nicolemark_   \n",
       "1001  1.400000e+18  1.430000e+18 2021-08-24         knmloml   \n",
       "1556  1.260000e+18  1.420000e+18 2021-08-18  fahimmoledina7   \n",
       "\n",
       "                                                   text               source  \\\n",
       "191   @priyankadobhal_ I don’t think my employer car...   Twitter for iPhone   \n",
       "1001  @mmaadwia che paura scritta cosi con questa gr...  Twitter for Android   \n",
       "1556  50 Best Python Course for #Developers \\n\\nhttp...            TwinyBots   \n",
       "\n",
       "      reply_to_status_id  reply_to_user_id  is_retweet  favorite_count  ...  \\\n",
       "191         1.430000e+18      1.070000e+18       False               0  ...   \n",
       "1001        1.430000e+18      1.400000e+18       False               1  ...   \n",
       "1556        0.000000e+00      0.000000e+00        True               0  ...   \n",
       "\n",
       "          lon        City   country user_or_bot  sentiment  year  month_num  \\\n",
       "191   19.4547       Łódź     Poland        User   Negative  2021         08   \n",
       "1001  11.0328     Erfurt    Germany        User   Positive  2021         08   \n",
       "1556 -75.3958  Sincelejo   Colombia         Bot   Negative  2021         08   \n",
       "\n",
       "       month score_retweet  score_favorite  \n",
       "191   August      0.000000        0.000000  \n",
       "1001  August      0.000000        0.002865  \n",
       "1556  August      0.006372        0.000000  \n",
       "\n",
       "[3 rows x 33 columns]"
      ]
     },
     "execution_count": 728,
     "metadata": {},
     "output_type": "execute_result"
    }
   ],
   "source": [
    "df.sample(3)"
   ]
  },
  {
   "cell_type": "code",
   "execution_count": 617,
   "id": "dbfd13f9",
   "metadata": {},
   "outputs": [],
   "source": [
    "# df['Normalized'] = df['score_retweet'] / 1"
   ]
  },
  {
   "cell_type": "code",
   "execution_count": 730,
   "id": "938f0828",
   "metadata": {},
   "outputs": [
    {
     "data": {
      "text/plain": [
       "Index(['user_id', 'status_id', 'created_at', 'screen_name', 'text', 'source',\n",
       "       'reply_to_status_id', 'reply_to_user_id', 'is_retweet',\n",
       "       'favorite_count', 'retweet_count', 'lang', 'name', 'description',\n",
       "       'followers_count', 'friends_count', 'statuses_count',\n",
       "       'favourites_count', 'account_created_at', 'verified', 'sentiment_value',\n",
       "       'sentiment_dictionary', 'lat', 'lon', 'City', 'country', 'user_or_bot',\n",
       "       'sentiment', 'year', 'month_num', 'month', 'score_retweet',\n",
       "       'score_favorite'],\n",
       "      dtype='object')"
      ]
     },
     "execution_count": 730,
     "metadata": {},
     "output_type": "execute_result"
    }
   ],
   "source": [
    "df.columns"
   ]
  },
  {
   "cell_type": "code",
   "execution_count": 619,
   "id": "885d9a42",
   "metadata": {},
   "outputs": [],
   "source": [
    "df = df.sort_values('score_retweet',ascending=False)"
   ]
  },
  {
   "cell_type": "markdown",
   "id": "a814659b",
   "metadata": {},
   "source": [
    "## Send the normalized dataset to a new csv file\n",
    "\n",
    "Once the dataframe is cleaned and normalized, it will be send as a new csv file."
   ]
  },
  {
   "cell_type": "code",
   "execution_count": 729,
   "id": "2df2a7f4",
   "metadata": {},
   "outputs": [],
   "source": [
    "# df.to_excel('twitter_clean_data.xlsx',index=False)"
   ]
  },
  {
   "cell_type": "code",
   "execution_count": null,
   "id": "56f329eb",
   "metadata": {},
   "outputs": [],
   "source": []
  },
  {
   "cell_type": "code",
   "execution_count": null,
   "id": "a6e9f17e",
   "metadata": {},
   "outputs": [],
   "source": []
  },
  {
   "cell_type": "code",
   "execution_count": null,
   "id": "8cc5d970",
   "metadata": {},
   "outputs": [],
   "source": []
  },
  {
   "cell_type": "code",
   "execution_count": 621,
   "id": "37951156",
   "metadata": {},
   "outputs": [],
   "source": [
    "# df['norma'] = df['score_retweet'] * 70"
   ]
  },
  {
   "cell_type": "code",
   "execution_count": 680,
   "id": "20650087",
   "metadata": {},
   "outputs": [],
   "source": [
    "# df['rica'] = (df['score_retweet'] / df['score_retweet'].sum()) *100\n",
    "# df['rica'] = (df['score_retweet'] + df['score_favorite']) / 1726\n",
    "# df['rica'] = (df['retweet_count'] * df['favorite_count']) / 1726"
   ]
  },
  {
   "cell_type": "code",
   "execution_count": 682,
   "id": "7eff6d3a",
   "metadata": {},
   "outputs": [],
   "source": [
    "df = df.sort_values('score_retweet',ascending=False)"
   ]
  },
  {
   "cell_type": "code",
   "execution_count": 683,
   "id": "6d97c67d",
   "metadata": {},
   "outputs": [
    {
     "data": {
      "text/html": [
       "<div>\n",
       "<style scoped>\n",
       "    .dataframe tbody tr th:only-of-type {\n",
       "        vertical-align: middle;\n",
       "    }\n",
       "\n",
       "    .dataframe tbody tr th {\n",
       "        vertical-align: top;\n",
       "    }\n",
       "\n",
       "    .dataframe thead th {\n",
       "        text-align: right;\n",
       "    }\n",
       "</style>\n",
       "<table border=\"1\" class=\"dataframe\">\n",
       "  <thead>\n",
       "    <tr style=\"text-align: right;\">\n",
       "      <th></th>\n",
       "      <th>user_id</th>\n",
       "      <th>status_id</th>\n",
       "      <th>created_at</th>\n",
       "      <th>screen_name</th>\n",
       "      <th>text</th>\n",
       "      <th>source</th>\n",
       "      <th>reply_to_status_id</th>\n",
       "      <th>reply_to_user_id</th>\n",
       "      <th>is_retweet</th>\n",
       "      <th>favorite_count</th>\n",
       "      <th>...</th>\n",
       "      <th>City</th>\n",
       "      <th>country</th>\n",
       "      <th>user_or_bot</th>\n",
       "      <th>sentiment</th>\n",
       "      <th>year</th>\n",
       "      <th>month_num</th>\n",
       "      <th>month</th>\n",
       "      <th>score_retweet</th>\n",
       "      <th>score_favorite</th>\n",
       "      <th>rica</th>\n",
       "    </tr>\n",
       "  </thead>\n",
       "  <tbody>\n",
       "    <tr>\n",
       "      <th>712</th>\n",
       "      <td>1.370000e+18</td>\n",
       "      <td>1.430000e+18</td>\n",
       "      <td>2021-08-23</td>\n",
       "      <td>carmen_borbaran</td>\n",
       "      <td>La Clínica Las Condes demandando a su ex direc...</td>\n",
       "      <td>Twitter for iPhone</td>\n",
       "      <td>0.0</td>\n",
       "      <td>0.0</td>\n",
       "      <td>True</td>\n",
       "      <td>0</td>\n",
       "      <td>...</td>\n",
       "      <td>Gävle</td>\n",
       "      <td>Sweden</td>\n",
       "      <td>User</td>\n",
       "      <td>Positive</td>\n",
       "      <td>2021</td>\n",
       "      <td>08</td>\n",
       "      <td>August</td>\n",
       "      <td>1.000000</td>\n",
       "      <td>0.0</td>\n",
       "      <td>0.0</td>\n",
       "    </tr>\n",
       "    <tr>\n",
       "      <th>308</th>\n",
       "      <td>8.980000e+17</td>\n",
       "      <td>1.430000e+18</td>\n",
       "      <td>2021-08-29</td>\n",
       "      <td>GadioOumoul</td>\n",
       "      <td>We analyzed air quality data gathered by the @...</td>\n",
       "      <td>Twitter Web App</td>\n",
       "      <td>0.0</td>\n",
       "      <td>0.0</td>\n",
       "      <td>True</td>\n",
       "      <td>0</td>\n",
       "      <td>...</td>\n",
       "      <td>Castlebar</td>\n",
       "      <td>Ireland</td>\n",
       "      <td>User</td>\n",
       "      <td>Positive</td>\n",
       "      <td>2021</td>\n",
       "      <td>08</td>\n",
       "      <td>August</td>\n",
       "      <td>0.990442</td>\n",
       "      <td>0.0</td>\n",
       "      <td>0.0</td>\n",
       "    </tr>\n",
       "    <tr>\n",
       "      <th>67</th>\n",
       "      <td>1.340000e+18</td>\n",
       "      <td>1.430000e+18</td>\n",
       "      <td>2021-08-06</td>\n",
       "      <td>iPythonistaBot</td>\n",
       "      <td>We analyzed air quality data gathered by the @...</td>\n",
       "      <td>Pythonista Bot</td>\n",
       "      <td>0.0</td>\n",
       "      <td>0.0</td>\n",
       "      <td>True</td>\n",
       "      <td>0</td>\n",
       "      <td>...</td>\n",
       "      <td>Miskolc</td>\n",
       "      <td>Hungary</td>\n",
       "      <td>Bot</td>\n",
       "      <td>Negative</td>\n",
       "      <td>2021</td>\n",
       "      <td>08</td>\n",
       "      <td>August</td>\n",
       "      <td>0.990442</td>\n",
       "      <td>0.0</td>\n",
       "      <td>0.0</td>\n",
       "    </tr>\n",
       "  </tbody>\n",
       "</table>\n",
       "<p>3 rows × 34 columns</p>\n",
       "</div>"
      ],
      "text/plain": [
       "          user_id     status_id created_at      screen_name  \\\n",
       "712  1.370000e+18  1.430000e+18 2021-08-23  carmen_borbaran   \n",
       "308  8.980000e+17  1.430000e+18 2021-08-29      GadioOumoul   \n",
       "67   1.340000e+18  1.430000e+18 2021-08-06   iPythonistaBot   \n",
       "\n",
       "                                                  text              source  \\\n",
       "712  La Clínica Las Condes demandando a su ex direc...  Twitter for iPhone   \n",
       "308  We analyzed air quality data gathered by the @...     Twitter Web App   \n",
       "67   We analyzed air quality data gathered by the @...      Pythonista Bot   \n",
       "\n",
       "     reply_to_status_id  reply_to_user_id  is_retweet  favorite_count  ...  \\\n",
       "712                 0.0               0.0        True               0  ...   \n",
       "308                 0.0               0.0        True               0  ...   \n",
       "67                  0.0               0.0        True               0  ...   \n",
       "\n",
       "           City  country user_or_bot sentiment  year  month_num   month  \\\n",
       "712      Gävle    Sweden        User  Positive  2021         08  August   \n",
       "308  Castlebar   Ireland        User  Positive  2021         08  August   \n",
       "67     Miskolc   Hungary         Bot  Negative  2021         08  August   \n",
       "\n",
       "     score_retweet score_favorite  rica  \n",
       "712       1.000000            0.0   0.0  \n",
       "308       0.990442            0.0   0.0  \n",
       "67        0.990442            0.0   0.0  \n",
       "\n",
       "[3 rows x 34 columns]"
      ]
     },
     "execution_count": 683,
     "metadata": {},
     "output_type": "execute_result"
    }
   ],
   "source": [
    "df.head(3)"
   ]
  },
  {
   "cell_type": "markdown",
   "id": "db6e6187",
   "metadata": {},
   "source": [
    "## Distribucion de tweets por idioma"
   ]
  },
  {
   "cell_type": "code",
   "execution_count": 126,
   "id": "8857484a",
   "metadata": {},
   "outputs": [],
   "source": [
    "# distribution of the tweets by language\n",
    "tweet_lang = pd.DataFrame(df.groupby('lang',as_index=False)['text'].count())"
   ]
  },
  {
   "cell_type": "code",
   "execution_count": 127,
   "id": "f8a56fbc",
   "metadata": {},
   "outputs": [],
   "source": [
    "tweet_lang['lang'] = tweet_lang['lang'].replace({'cy':'Welsh','en':'English','es':'Spanish','fr':'French','it':'Italian','pt':'Portuguese'})"
   ]
  },
  {
   "cell_type": "code",
   "execution_count": 128,
   "id": "7199a3a8",
   "metadata": {
    "scrolled": true
   },
   "outputs": [
    {
     "data": {
      "text/html": [
       "<div>\n",
       "<style scoped>\n",
       "    .dataframe tbody tr th:only-of-type {\n",
       "        vertical-align: middle;\n",
       "    }\n",
       "\n",
       "    .dataframe tbody tr th {\n",
       "        vertical-align: top;\n",
       "    }\n",
       "\n",
       "    .dataframe thead th {\n",
       "        text-align: right;\n",
       "    }\n",
       "</style>\n",
       "<table border=\"1\" class=\"dataframe\">\n",
       "  <thead>\n",
       "    <tr style=\"text-align: right;\">\n",
       "      <th></th>\n",
       "      <th>lang</th>\n",
       "      <th>text</th>\n",
       "    </tr>\n",
       "  </thead>\n",
       "  <tbody>\n",
       "    <tr>\n",
       "      <th>1</th>\n",
       "      <td>English</td>\n",
       "      <td>491</td>\n",
       "    </tr>\n",
       "    <tr>\n",
       "      <th>2</th>\n",
       "      <td>Spanish</td>\n",
       "      <td>479</td>\n",
       "    </tr>\n",
       "    <tr>\n",
       "      <th>4</th>\n",
       "      <td>Italian</td>\n",
       "      <td>442</td>\n",
       "    </tr>\n",
       "    <tr>\n",
       "      <th>3</th>\n",
       "      <td>French</td>\n",
       "      <td>312</td>\n",
       "    </tr>\n",
       "    <tr>\n",
       "      <th>0</th>\n",
       "      <td>Welsh</td>\n",
       "      <td>1</td>\n",
       "    </tr>\n",
       "    <tr>\n",
       "      <th>5</th>\n",
       "      <td>Portuguese</td>\n",
       "      <td>1</td>\n",
       "    </tr>\n",
       "  </tbody>\n",
       "</table>\n",
       "</div>"
      ],
      "text/plain": [
       "         lang  text\n",
       "1     English   491\n",
       "2     Spanish   479\n",
       "4     Italian   442\n",
       "3      French   312\n",
       "0       Welsh     1\n",
       "5  Portuguese     1"
      ]
     },
     "execution_count": 128,
     "metadata": {},
     "output_type": "execute_result"
    }
   ],
   "source": [
    "tweet_lang = tweet_lang.sort_values('text',ascending=False)\n",
    "tweet_lang"
   ]
  },
  {
   "cell_type": "code",
   "execution_count": 129,
   "id": "a68621cd",
   "metadata": {},
   "outputs": [
    {
     "data": {
      "image/png": "[encoded data removed]",
      "text/plain": [
       "<Figure size 640x480 with 1 Axes>"
      ]
     },
     "metadata": {},
     "output_type": "display_data"
    }
   ],
   "source": [
    "# distribution of the tweets by language\n",
    "plt.bar(tweet_lang['lang'],tweet_lang['text'], color=['r','b'])\n",
    "plt.show()"
   ]
  },
  {
   "cell_type": "markdown",
   "id": "56d3fa08",
   "metadata": {},
   "source": [
    "## Distribución geográfica de tweets por sentimiento"
   ]
  },
  {
   "cell_type": "code",
   "execution_count": 148,
   "id": "02a3e1c3",
   "metadata": {},
   "outputs": [],
   "source": [
    "df['row_val'] = 1"
   ]
  },
  {
   "cell_type": "markdown",
   "id": "7cb0056f",
   "metadata": {},
   "source": [
    "### Creación de geometría a partir de lat - lon"
   ]
  },
  {
   "cell_type": "code",
   "execution_count": 150,
   "id": "2f65e480",
   "metadata": {},
   "outputs": [],
   "source": [
    "import geopandas as gpd"
   ]
  },
  {
   "cell_type": "code",
   "execution_count": 151,
   "id": "0029fa22",
   "metadata": {},
   "outputs": [],
   "source": [
    "gdf_read = gpd.GeoDataFrame(df,geometry=gpd.points_from_xy(df.lon,df.lat))"
   ]
  },
  {
   "cell_type": "code",
   "execution_count": 152,
   "id": "d7178b3a",
   "metadata": {},
   "outputs": [],
   "source": [
    "gdf = gdf_read.copy(deep=True)"
   ]
  },
  {
   "cell_type": "code",
   "execution_count": 153,
   "id": "40716a89",
   "metadata": {
    "scrolled": true
   },
   "outputs": [
    {
     "data": {
      "text/html": [
       "<div>\n",
       "<style scoped>\n",
       "    .dataframe tbody tr th:only-of-type {\n",
       "        vertical-align: middle;\n",
       "    }\n",
       "\n",
       "    .dataframe tbody tr th {\n",
       "        vertical-align: top;\n",
       "    }\n",
       "\n",
       "    .dataframe thead th {\n",
       "        text-align: right;\n",
       "    }\n",
       "</style>\n",
       "<table border=\"1\" class=\"dataframe\">\n",
       "  <thead>\n",
       "    <tr style=\"text-align: right;\">\n",
       "      <th></th>\n",
       "      <th>user_id</th>\n",
       "      <th>status_id</th>\n",
       "      <th>created_at</th>\n",
       "      <th>screen_name</th>\n",
       "      <th>text</th>\n",
       "      <th>source</th>\n",
       "      <th>reply_to_status_id</th>\n",
       "      <th>reply_to_user_id</th>\n",
       "      <th>is_retweet</th>\n",
       "      <th>favorite_count</th>\n",
       "      <th>...</th>\n",
       "      <th>verified</th>\n",
       "      <th>sentiment_value</th>\n",
       "      <th>sentiment_dictionary</th>\n",
       "      <th>lat</th>\n",
       "      <th>lon</th>\n",
       "      <th>City</th>\n",
       "      <th>country</th>\n",
       "      <th>sentiment</th>\n",
       "      <th>geometry</th>\n",
       "      <th>row_val</th>\n",
       "    </tr>\n",
       "  </thead>\n",
       "  <tbody>\n",
       "    <tr>\n",
       "      <th>0</th>\n",
       "      <td>1.150000e+18</td>\n",
       "      <td>1.430000e+18</td>\n",
       "      <td>2021-08-20</td>\n",
       "      <td>sab_loos</td>\n",
       "      <td>So blown away by all the #disaster #dataviz pr...</td>\n",
       "      <td>Twitter for Android</td>\n",
       "      <td>0.0</td>\n",
       "      <td>0.0</td>\n",
       "      <td>0</td>\n",
       "      <td>6</td>\n",
       "      <td>...</td>\n",
       "      <td>0</td>\n",
       "      <td>3</td>\n",
       "      <td>AFINN</td>\n",
       "      <td>20.5875</td>\n",
       "      <td>-100.3928</td>\n",
       "      <td>Querétaro</td>\n",
       "      <td>Mexico</td>\n",
       "      <td>Positive</td>\n",
       "      <td>POINT (-100.39280 20.58750)</td>\n",
       "      <td>1</td>\n",
       "    </tr>\n",
       "    <tr>\n",
       "      <th>1</th>\n",
       "      <td>1.758731e+07</td>\n",
       "      <td>1.430000e+18</td>\n",
       "      <td>2021-08-27</td>\n",
       "      <td>avyfain</td>\n",
       "      <td>New census data means there's a lot of cool #d...</td>\n",
       "      <td>Twitter Web App</td>\n",
       "      <td>0.0</td>\n",
       "      <td>0.0</td>\n",
       "      <td>0</td>\n",
       "      <td>1</td>\n",
       "      <td>...</td>\n",
       "      <td>0</td>\n",
       "      <td>-3</td>\n",
       "      <td>AFINN</td>\n",
       "      <td>52.5125</td>\n",
       "      <td>6.0944</td>\n",
       "      <td>Zwolle</td>\n",
       "      <td>Netherlands</td>\n",
       "      <td>Negative</td>\n",
       "      <td>POINT (6.09440 52.51250)</td>\n",
       "      <td>1</td>\n",
       "    </tr>\n",
       "    <tr>\n",
       "      <th>2</th>\n",
       "      <td>9.050000e+17</td>\n",
       "      <td>1.430000e+18</td>\n",
       "      <td>2021-08-30</td>\n",
       "      <td>observablehq</td>\n",
       "      <td>We're thrilled to announce the winners of our ...</td>\n",
       "      <td>Twitter Web App</td>\n",
       "      <td>0.0</td>\n",
       "      <td>0.0</td>\n",
       "      <td>0</td>\n",
       "      <td>11</td>\n",
       "      <td>...</td>\n",
       "      <td>0</td>\n",
       "      <td>2</td>\n",
       "      <td>AFINN</td>\n",
       "      <td>24.0889</td>\n",
       "      <td>32.8997</td>\n",
       "      <td>Aswān</td>\n",
       "      <td>Egypt</td>\n",
       "      <td>Positive</td>\n",
       "      <td>POINT (32.89970 24.08890)</td>\n",
       "      <td>1</td>\n",
       "    </tr>\n",
       "    <tr>\n",
       "      <th>3</th>\n",
       "      <td>9.050000e+17</td>\n",
       "      <td>1.420000e+18</td>\n",
       "      <td>2021-08-22</td>\n",
       "      <td>observablehq</td>\n",
       "      <td>Tag someone who you think might be interested ...</td>\n",
       "      <td>TweetDeck</td>\n",
       "      <td>0.0</td>\n",
       "      <td>0.0</td>\n",
       "      <td>0</td>\n",
       "      <td>18</td>\n",
       "      <td>...</td>\n",
       "      <td>0</td>\n",
       "      <td>1</td>\n",
       "      <td>AFINN</td>\n",
       "      <td>24.0889</td>\n",
       "      <td>32.8997</td>\n",
       "      <td>Aswān</td>\n",
       "      <td>Egypt</td>\n",
       "      <td>Positive</td>\n",
       "      <td>POINT (32.89970 24.08890)</td>\n",
       "      <td>1</td>\n",
       "    </tr>\n",
       "    <tr>\n",
       "      <th>4</th>\n",
       "      <td>1.192883e+08</td>\n",
       "      <td>1.430000e+18</td>\n",
       "      <td>2021-08-04</td>\n",
       "      <td>marissaxdexleon</td>\n",
       "      <td>Descripción gráfica de la variante Delta https...</td>\n",
       "      <td>Twitter for iPhone</td>\n",
       "      <td>0.0</td>\n",
       "      <td>0.0</td>\n",
       "      <td>0</td>\n",
       "      <td>0</td>\n",
       "      <td>...</td>\n",
       "      <td>0</td>\n",
       "      <td>-1</td>\n",
       "      <td>AFINN</td>\n",
       "      <td>45.0667</td>\n",
       "      <td>7.7000</td>\n",
       "      <td>Turin</td>\n",
       "      <td>Italy</td>\n",
       "      <td>Negative</td>\n",
       "      <td>POINT (7.70000 45.06670)</td>\n",
       "      <td>1</td>\n",
       "    </tr>\n",
       "  </tbody>\n",
       "</table>\n",
       "<p>5 rows × 29 columns</p>\n",
       "</div>"
      ],
      "text/plain": [
       "        user_id     status_id created_at      screen_name  \\\n",
       "0  1.150000e+18  1.430000e+18 2021-08-20         sab_loos   \n",
       "1  1.758731e+07  1.430000e+18 2021-08-27          avyfain   \n",
       "2  9.050000e+17  1.430000e+18 2021-08-30     observablehq   \n",
       "3  9.050000e+17  1.420000e+18 2021-08-22     observablehq   \n",
       "4  1.192883e+08  1.430000e+18 2021-08-04  marissaxdexleon   \n",
       "\n",
       "                                                text               source  \\\n",
       "0  So blown away by all the #disaster #dataviz pr...  Twitter for Android   \n",
       "1  New census data means there's a lot of cool #d...      Twitter Web App   \n",
       "2  We're thrilled to announce the winners of our ...      Twitter Web App   \n",
       "3  Tag someone who you think might be interested ...            TweetDeck   \n",
       "4  Descripción gráfica de la variante Delta https...   Twitter for iPhone   \n",
       "\n",
       "   reply_to_status_id  reply_to_user_id  is_retweet  favorite_count  ...  \\\n",
       "0                 0.0               0.0           0               6  ...   \n",
       "1                 0.0               0.0           0               1  ...   \n",
       "2                 0.0               0.0           0              11  ...   \n",
       "3                 0.0               0.0           0              18  ...   \n",
       "4                 0.0               0.0           0               0  ...   \n",
       "\n",
       "   verified sentiment_value sentiment_dictionary      lat       lon  \\\n",
       "0         0               3                AFINN  20.5875 -100.3928   \n",
       "1         0              -3                AFINN  52.5125    6.0944   \n",
       "2         0               2                AFINN  24.0889   32.8997   \n",
       "3         0               1                AFINN  24.0889   32.8997   \n",
       "4         0              -1                AFINN  45.0667    7.7000   \n",
       "\n",
       "         City      country  sentiment                     geometry  row_val  \n",
       "0  Querétaro        Mexico   Positive  POINT (-100.39280 20.58750)        1  \n",
       "1     Zwolle   Netherlands   Negative     POINT (6.09440 52.51250)        1  \n",
       "2      Aswān         Egypt   Positive    POINT (32.89970 24.08890)        1  \n",
       "3      Aswān         Egypt   Positive    POINT (32.89970 24.08890)        1  \n",
       "4      Turin         Italy   Negative     POINT (7.70000 45.06670)        1  \n",
       "\n",
       "[5 rows x 29 columns]"
      ]
     },
     "execution_count": 153,
     "metadata": {},
     "output_type": "execute_result"
    }
   ],
   "source": [
    "gdf.head(5)"
   ]
  },
  {
   "cell_type": "code",
   "execution_count": 177,
   "id": "1b20fac0",
   "metadata": {},
   "outputs": [],
   "source": [
    "# test = gdf.groupby(['geometry'],as_index=False)['row_val'].count()"
   ]
  },
  {
   "cell_type": "code",
   "execution_count": 162,
   "id": "3de4735a",
   "metadata": {
    "scrolled": true
   },
   "outputs": [
    {
     "data": {
      "text/html": [
       "<div>\n",
       "<style scoped>\n",
       "    .dataframe tbody tr th:only-of-type {\n",
       "        vertical-align: middle;\n",
       "    }\n",
       "\n",
       "    .dataframe tbody tr th {\n",
       "        vertical-align: top;\n",
       "    }\n",
       "\n",
       "    .dataframe thead th {\n",
       "        text-align: right;\n",
       "    }\n",
       "</style>\n",
       "<table border=\"1\" class=\"dataframe\">\n",
       "  <thead>\n",
       "    <tr style=\"text-align: right;\">\n",
       "      <th></th>\n",
       "      <th>country</th>\n",
       "      <th>City</th>\n",
       "      <th>sentiment</th>\n",
       "      <th>row_val</th>\n",
       "    </tr>\n",
       "  </thead>\n",
       "  <tbody>\n",
       "    <tr>\n",
       "      <th>0</th>\n",
       "      <td>and wild boar</td>\n",
       "      <td>With my family</td>\n",
       "      <td>Negative</td>\n",
       "      <td>1</td>\n",
       "    </tr>\n",
       "    <tr>\n",
       "      <th>1</th>\n",
       "      <td>Andorra</td>\n",
       "      <td>Andorra la Vella</td>\n",
       "      <td>Negative</td>\n",
       "      <td>2</td>\n",
       "    </tr>\n",
       "  </tbody>\n",
       "</table>\n",
       "</div>"
      ],
      "text/plain": [
       "          country               City sentiment  row_val\n",
       "0   and wild boar     With my family  Negative        1\n",
       "1         Andorra  Andorra la Vella   Negative        2"
      ]
     },
     "execution_count": 162,
     "metadata": {},
     "output_type": "execute_result"
    }
   ],
   "source": [
    "test.head(2)"
   ]
  },
  {
   "cell_type": "code",
   "execution_count": 170,
   "id": "17493498",
   "metadata": {},
   "outputs": [],
   "source": [
    "import geopy"
   ]
  },
  {
   "cell_type": "code",
   "execution_count": 175,
   "id": "33e14127",
   "metadata": {},
   "outputs": [],
   "source": [
    "# test_locations = gpd.tools.geocode(test.City)"
   ]
  },
  {
   "cell_type": "code",
   "execution_count": 137,
   "id": "45f5a926",
   "metadata": {},
   "outputs": [
    {
     "data": {
      "text/html": [
       "<div>\n",
       "<style scoped>\n",
       "    .dataframe tbody tr th:only-of-type {\n",
       "        vertical-align: middle;\n",
       "    }\n",
       "\n",
       "    .dataframe tbody tr th {\n",
       "        vertical-align: top;\n",
       "    }\n",
       "\n",
       "    .dataframe thead th {\n",
       "        text-align: right;\n",
       "    }\n",
       "</style>\n",
       "<table border=\"1\" class=\"dataframe\">\n",
       "  <thead>\n",
       "    <tr style=\"text-align: right;\">\n",
       "      <th></th>\n",
       "      <th>user_id</th>\n",
       "      <th>status_id</th>\n",
       "      <th>created_at</th>\n",
       "      <th>screen_name</th>\n",
       "      <th>text</th>\n",
       "      <th>source</th>\n",
       "      <th>reply_to_status_id</th>\n",
       "      <th>reply_to_user_id</th>\n",
       "      <th>is_retweet</th>\n",
       "      <th>favorite_count</th>\n",
       "      <th>...</th>\n",
       "      <th>account_created_at</th>\n",
       "      <th>verified</th>\n",
       "      <th>sentiment_value</th>\n",
       "      <th>sentiment_dictionary</th>\n",
       "      <th>lat</th>\n",
       "      <th>lon</th>\n",
       "      <th>City</th>\n",
       "      <th>country</th>\n",
       "      <th>sentiment</th>\n",
       "      <th>geometry</th>\n",
       "    </tr>\n",
       "  </thead>\n",
       "  <tbody>\n",
       "    <tr>\n",
       "      <th>0</th>\n",
       "      <td>1.150000e+18</td>\n",
       "      <td>1.430000e+18</td>\n",
       "      <td>2021-08-20</td>\n",
       "      <td>sab_loos</td>\n",
       "      <td>So blown away by all the #disaster #dataviz pr...</td>\n",
       "      <td>Twitter for Android</td>\n",
       "      <td>0.0</td>\n",
       "      <td>0.0</td>\n",
       "      <td>0</td>\n",
       "      <td>6</td>\n",
       "      <td>...</td>\n",
       "      <td>2019-07-15 02:45:00</td>\n",
       "      <td>0</td>\n",
       "      <td>3</td>\n",
       "      <td>AFINN</td>\n",
       "      <td>20.5875</td>\n",
       "      <td>-100.3928</td>\n",
       "      <td>Querétaro</td>\n",
       "      <td>Mexico</td>\n",
       "      <td>Positive</td>\n",
       "      <td>POINT (-100.39280 20.58750)</td>\n",
       "    </tr>\n",
       "    <tr>\n",
       "      <th>21</th>\n",
       "      <td>1.792511e+06</td>\n",
       "      <td>1.430000e+18</td>\n",
       "      <td>2021-08-20</td>\n",
       "      <td>KristinHenry</td>\n",
       "      <td>Wow, it seems like a lifetime ago when I publi...</td>\n",
       "      <td>Twitter Web App</td>\n",
       "      <td>0.0</td>\n",
       "      <td>0.0</td>\n",
       "      <td>0</td>\n",
       "      <td>11</td>\n",
       "      <td>...</td>\n",
       "      <td>2007-03-21 20:33:00</td>\n",
       "      <td>0</td>\n",
       "      <td>-5</td>\n",
       "      <td>AFINN</td>\n",
       "      <td>25.4333</td>\n",
       "      <td>-101.0000</td>\n",
       "      <td>Saltillo</td>\n",
       "      <td>Mexico</td>\n",
       "      <td>Negative</td>\n",
       "      <td>POINT (-101.00000 25.43330)</td>\n",
       "    </tr>\n",
       "    <tr>\n",
       "      <th>22</th>\n",
       "      <td>1.792511e+06</td>\n",
       "      <td>1.420000e+18</td>\n",
       "      <td>2021-08-13</td>\n",
       "      <td>KristinHenry</td>\n",
       "      <td>Playing with negative space in today's #inkyDa...</td>\n",
       "      <td>Twitter Web App</td>\n",
       "      <td>0.0</td>\n",
       "      <td>0.0</td>\n",
       "      <td>0</td>\n",
       "      <td>0</td>\n",
       "      <td>...</td>\n",
       "      <td>2007-03-21 20:33:00</td>\n",
       "      <td>0</td>\n",
       "      <td>5</td>\n",
       "      <td>AFINN</td>\n",
       "      <td>25.4333</td>\n",
       "      <td>-101.0000</td>\n",
       "      <td>Saltillo</td>\n",
       "      <td>Mexico</td>\n",
       "      <td>Positive</td>\n",
       "      <td>POINT (-101.00000 25.43330)</td>\n",
       "    </tr>\n",
       "    <tr>\n",
       "      <th>91</th>\n",
       "      <td>1.130000e+18</td>\n",
       "      <td>1.430000e+18</td>\n",
       "      <td>2021-08-10</td>\n",
       "      <td>dannakoto</td>\n",
       "      <td>We use 30 year averages to show climatology (a...</td>\n",
       "      <td>Twitter for Android</td>\n",
       "      <td>0.0</td>\n",
       "      <td>0.0</td>\n",
       "      <td>1</td>\n",
       "      <td>0</td>\n",
       "      <td>...</td>\n",
       "      <td>2019-10-05 10:48:00</td>\n",
       "      <td>0</td>\n",
       "      <td>2</td>\n",
       "      <td>AFINN</td>\n",
       "      <td>20.9700</td>\n",
       "      <td>-89.6200</td>\n",
       "      <td>Mérida</td>\n",
       "      <td>Mexico</td>\n",
       "      <td>Positive</td>\n",
       "      <td>POINT (-89.62000 20.97000)</td>\n",
       "    </tr>\n",
       "    <tr>\n",
       "      <th>102</th>\n",
       "      <td>1.300000e+18</td>\n",
       "      <td>1.430000e+18</td>\n",
       "      <td>2021-08-09</td>\n",
       "      <td>GsisOffice</td>\n",
       "      <td>#WhiteboxTools Visualization of the Week\\n\\nTh...</td>\n",
       "      <td>Twitter Web App</td>\n",
       "      <td>0.0</td>\n",
       "      <td>0.0</td>\n",
       "      <td>1</td>\n",
       "      <td>0</td>\n",
       "      <td>...</td>\n",
       "      <td>2020-08-25 13:04:00</td>\n",
       "      <td>0</td>\n",
       "      <td>-3</td>\n",
       "      <td>AFINN</td>\n",
       "      <td>28.6353</td>\n",
       "      <td>-106.0889</td>\n",
       "      <td>Chihuahua</td>\n",
       "      <td>Mexico</td>\n",
       "      <td>Negative</td>\n",
       "      <td>POINT (-106.08890 28.63530)</td>\n",
       "    </tr>\n",
       "    <tr>\n",
       "      <th>...</th>\n",
       "      <td>...</td>\n",
       "      <td>...</td>\n",
       "      <td>...</td>\n",
       "      <td>...</td>\n",
       "      <td>...</td>\n",
       "      <td>...</td>\n",
       "      <td>...</td>\n",
       "      <td>...</td>\n",
       "      <td>...</td>\n",
       "      <td>...</td>\n",
       "      <td>...</td>\n",
       "      <td>...</td>\n",
       "      <td>...</td>\n",
       "      <td>...</td>\n",
       "      <td>...</td>\n",
       "      <td>...</td>\n",
       "      <td>...</td>\n",
       "      <td>...</td>\n",
       "      <td>...</td>\n",
       "      <td>...</td>\n",
       "      <td>...</td>\n",
       "    </tr>\n",
       "    <tr>\n",
       "      <th>1500</th>\n",
       "      <td>1.020000e+18</td>\n",
       "      <td>1.430000e+18</td>\n",
       "      <td>2021-08-21</td>\n",
       "      <td>DanielleLargier</td>\n",
       "      <td>Les systèmes d’assurance chômage sont fondamen...</td>\n",
       "      <td>Twitter for iPhone</td>\n",
       "      <td>0.0</td>\n",
       "      <td>0.0</td>\n",
       "      <td>1</td>\n",
       "      <td>0</td>\n",
       "      <td>...</td>\n",
       "      <td>2018-07-20 00:47:00</td>\n",
       "      <td>0</td>\n",
       "      <td>5</td>\n",
       "      <td>AFINN</td>\n",
       "      <td>29.0989</td>\n",
       "      <td>-110.9542</td>\n",
       "      <td>Hermosillo</td>\n",
       "      <td>Mexico</td>\n",
       "      <td>Positive</td>\n",
       "      <td>POINT (-110.95420 29.09890)</td>\n",
       "    </tr>\n",
       "    <tr>\n",
       "      <th>1558</th>\n",
       "      <td>1.350000e+18</td>\n",
       "      <td>1.420000e+18</td>\n",
       "      <td>2021-08-20</td>\n",
       "      <td>CoderRetweet</td>\n",
       "      <td>50 Best Python Course for #Developers \\n\\nhttp...</td>\n",
       "      <td>CoderRetweet</td>\n",
       "      <td>0.0</td>\n",
       "      <td>0.0</td>\n",
       "      <td>1</td>\n",
       "      <td>0</td>\n",
       "      <td>...</td>\n",
       "      <td>2021-08-01 04:15:00</td>\n",
       "      <td>0</td>\n",
       "      <td>2</td>\n",
       "      <td>AFINN</td>\n",
       "      <td>21.8760</td>\n",
       "      <td>-102.2960</td>\n",
       "      <td>Aguascalientes</td>\n",
       "      <td>Mexico</td>\n",
       "      <td>Positive</td>\n",
       "      <td>POINT (-102.29600 21.87600)</td>\n",
       "    </tr>\n",
       "    <tr>\n",
       "      <th>1601</th>\n",
       "      <td>2.766411e+08</td>\n",
       "      <td>1.420000e+18</td>\n",
       "      <td>2021-08-30</td>\n",
       "      <td>emnetter</td>\n",
       "      <td>En attendant que le rapport du #GIEC lui-même ...</td>\n",
       "      <td>Twitter Web App</td>\n",
       "      <td>0.0</td>\n",
       "      <td>0.0</td>\n",
       "      <td>1</td>\n",
       "      <td>0</td>\n",
       "      <td>...</td>\n",
       "      <td>2011-03-04 19:42:00</td>\n",
       "      <td>0</td>\n",
       "      <td>2</td>\n",
       "      <td>AFINN</td>\n",
       "      <td>19.5400</td>\n",
       "      <td>-96.9275</td>\n",
       "      <td>Xalapa</td>\n",
       "      <td>Mexico</td>\n",
       "      <td>Positive</td>\n",
       "      <td>POINT (-96.92750 19.54000)</td>\n",
       "    </tr>\n",
       "    <tr>\n",
       "      <th>1634</th>\n",
       "      <td>7.237828e+08</td>\n",
       "      <td>1.420000e+18</td>\n",
       "      <td>2021-08-27</td>\n",
       "      <td>BaldelliAymeri</td>\n",
       "      <td>Félicitations à toutes les personnes impliquée...</td>\n",
       "      <td>Twitter for Android</td>\n",
       "      <td>0.0</td>\n",
       "      <td>0.0</td>\n",
       "      <td>1</td>\n",
       "      <td>0</td>\n",
       "      <td>...</td>\n",
       "      <td>2012-07-29 10:35:00</td>\n",
       "      <td>0</td>\n",
       "      <td>-1</td>\n",
       "      <td>AFINN</td>\n",
       "      <td>19.4333</td>\n",
       "      <td>-99.1333</td>\n",
       "      <td>Mexico City</td>\n",
       "      <td>Mexico</td>\n",
       "      <td>Negative</td>\n",
       "      <td>POINT (-99.13330 19.43330)</td>\n",
       "    </tr>\n",
       "    <tr>\n",
       "      <th>1674</th>\n",
       "      <td>1.250253e+08</td>\n",
       "      <td>1.420000e+18</td>\n",
       "      <td>2021-08-23</td>\n",
       "      <td>laurentPx</td>\n",
       "      <td>Si le taux de croissance actuel des doses obli...</td>\n",
       "      <td>Twitter for Android</td>\n",
       "      <td>0.0</td>\n",
       "      <td>0.0</td>\n",
       "      <td>1</td>\n",
       "      <td>0</td>\n",
       "      <td>...</td>\n",
       "      <td>2010-03-21 12:21:00</td>\n",
       "      <td>0</td>\n",
       "      <td>-1</td>\n",
       "      <td>AFINN</td>\n",
       "      <td>21.8760</td>\n",
       "      <td>-102.2960</td>\n",
       "      <td>Aguascalientes</td>\n",
       "      <td>Mexico</td>\n",
       "      <td>Negative</td>\n",
       "      <td>POINT (-102.29600 21.87600)</td>\n",
       "    </tr>\n",
       "  </tbody>\n",
       "</table>\n",
       "<p>67 rows × 28 columns</p>\n",
       "</div>"
      ],
      "text/plain": [
       "           user_id     status_id created_at      screen_name  \\\n",
       "0     1.150000e+18  1.430000e+18 2021-08-20         sab_loos   \n",
       "21    1.792511e+06  1.430000e+18 2021-08-20     KristinHenry   \n",
       "22    1.792511e+06  1.420000e+18 2021-08-13     KristinHenry   \n",
       "91    1.130000e+18  1.430000e+18 2021-08-10        dannakoto   \n",
       "102   1.300000e+18  1.430000e+18 2021-08-09       GsisOffice   \n",
       "...            ...           ...        ...              ...   \n",
       "1500  1.020000e+18  1.430000e+18 2021-08-21  DanielleLargier   \n",
       "1558  1.350000e+18  1.420000e+18 2021-08-20     CoderRetweet   \n",
       "1601  2.766411e+08  1.420000e+18 2021-08-30         emnetter   \n",
       "1634  7.237828e+08  1.420000e+18 2021-08-27   BaldelliAymeri   \n",
       "1674  1.250253e+08  1.420000e+18 2021-08-23        laurentPx   \n",
       "\n",
       "                                                   text               source  \\\n",
       "0     So blown away by all the #disaster #dataviz pr...  Twitter for Android   \n",
       "21    Wow, it seems like a lifetime ago when I publi...      Twitter Web App   \n",
       "22    Playing with negative space in today's #inkyDa...      Twitter Web App   \n",
       "91    We use 30 year averages to show climatology (a...  Twitter for Android   \n",
       "102   #WhiteboxTools Visualization of the Week\\n\\nTh...      Twitter Web App   \n",
       "...                                                 ...                  ...   \n",
       "1500  Les systèmes d’assurance chômage sont fondamen...   Twitter for iPhone   \n",
       "1558  50 Best Python Course for #Developers \\n\\nhttp...         CoderRetweet   \n",
       "1601  En attendant que le rapport du #GIEC lui-même ...      Twitter Web App   \n",
       "1634  Félicitations à toutes les personnes impliquée...  Twitter for Android   \n",
       "1674  Si le taux de croissance actuel des doses obli...  Twitter for Android   \n",
       "\n",
       "      reply_to_status_id  reply_to_user_id  is_retweet  favorite_count  ...  \\\n",
       "0                    0.0               0.0           0               6  ...   \n",
       "21                   0.0               0.0           0              11  ...   \n",
       "22                   0.0               0.0           0               0  ...   \n",
       "91                   0.0               0.0           1               0  ...   \n",
       "102                  0.0               0.0           1               0  ...   \n",
       "...                  ...               ...         ...             ...  ...   \n",
       "1500                 0.0               0.0           1               0  ...   \n",
       "1558                 0.0               0.0           1               0  ...   \n",
       "1601                 0.0               0.0           1               0  ...   \n",
       "1634                 0.0               0.0           1               0  ...   \n",
       "1674                 0.0               0.0           1               0  ...   \n",
       "\n",
       "      account_created_at verified sentiment_value sentiment_dictionary  \\\n",
       "0    2019-07-15 02:45:00        0               3                AFINN   \n",
       "21   2007-03-21 20:33:00        0              -5                AFINN   \n",
       "22   2007-03-21 20:33:00        0               5                AFINN   \n",
       "91   2019-10-05 10:48:00        0               2                AFINN   \n",
       "102  2020-08-25 13:04:00        0              -3                AFINN   \n",
       "...                  ...      ...             ...                  ...   \n",
       "1500 2018-07-20 00:47:00        0               5                AFINN   \n",
       "1558 2021-08-01 04:15:00        0               2                AFINN   \n",
       "1601 2011-03-04 19:42:00        0               2                AFINN   \n",
       "1634 2012-07-29 10:35:00        0              -1                AFINN   \n",
       "1674 2010-03-21 12:21:00        0              -1                AFINN   \n",
       "\n",
       "          lat       lon             City  country sentiment  \\\n",
       "0     20.5875 -100.3928       Querétaro    Mexico  Positive   \n",
       "21    25.4333 -101.0000        Saltillo    Mexico  Negative   \n",
       "22    25.4333 -101.0000        Saltillo    Mexico  Positive   \n",
       "91    20.9700  -89.6200          Mérida    Mexico  Positive   \n",
       "102   28.6353 -106.0889       Chihuahua    Mexico  Negative   \n",
       "...       ...       ...              ...      ...       ...   \n",
       "1500  29.0989 -110.9542      Hermosillo    Mexico  Positive   \n",
       "1558  21.8760 -102.2960  Aguascalientes    Mexico  Positive   \n",
       "1601  19.5400  -96.9275          Xalapa    Mexico  Positive   \n",
       "1634  19.4333  -99.1333     Mexico City    Mexico  Negative   \n",
       "1674  21.8760 -102.2960  Aguascalientes    Mexico  Negative   \n",
       "\n",
       "                         geometry  \n",
       "0     POINT (-100.39280 20.58750)  \n",
       "21    POINT (-101.00000 25.43330)  \n",
       "22    POINT (-101.00000 25.43330)  \n",
       "91     POINT (-89.62000 20.97000)  \n",
       "102   POINT (-106.08890 28.63530)  \n",
       "...                           ...  \n",
       "1500  POINT (-110.95420 29.09890)  \n",
       "1558  POINT (-102.29600 21.87600)  \n",
       "1601   POINT (-96.92750 19.54000)  \n",
       "1634   POINT (-99.13330 19.43330)  \n",
       "1674  POINT (-102.29600 21.87600)  \n",
       "\n",
       "[67 rows x 28 columns]"
      ]
     },
     "execution_count": 137,
     "metadata": {},
     "output_type": "execute_result"
    }
   ],
   "source": [
    "gdf[gdf['country'] == 'Mexico']\n",
    "gdf[gdf['country'] == 'Mexico'].plot(color='g')"
   ]
  },
  {
   "cell_type": "code",
   "execution_count": 34,
   "id": "3aca70b5",
   "metadata": {},
   "outputs": [
    {
     "data": {
      "image/png": "[encoded data removed]",
      "text/plain": [
       "<Figure size 800x600 with 1 Axes>"
      ]
     },
     "metadata": {},
     "output_type": "display_data"
    }
   ],
   "source": [
    "# initialize an axis\n",
    "fig, ax = plt.subplots(figsize=(8,6))\n",
    "\n",
    "# plot map on axis\n",
    "countries[countries[\"name\"] == \"Mexico\"].plot(color=\"#fae7b5\", ax=ax)\n",
    "\n",
    "# plot points\n",
    "gdf[gdf['country'] == 'Mexico'].plot(color='g',ax=ax)\n",
    "\n",
    "plt.show()"
   ]
  },
  {
   "cell_type": "code",
   "execution_count": 31,
   "id": "ab0c3c8f",
   "metadata": {},
   "outputs": [
    {
     "data": {
      "text/plain": [
       "<AxesSubplot: >"
      ]
     },
     "execution_count": 31,
     "metadata": {},
     "output_type": "execute_result"
    },
    {
     "data": {
      "image/png": "[encoded data removed]",
      "text/plain": [
       "<Figure size 640x480 with 1 Axes>"
      ]
     },
     "metadata": {},
     "output_type": "display_data"
    }
   ],
   "source": [
    "gdf[gdf['country'] == 'Mexico'].plot(color='g')\n",
    "#df.plot(color='r')"
   ]
  },
  {
   "cell_type": "code",
   "execution_count": 32,
   "id": "3cb6228a",
   "metadata": {},
   "outputs": [],
   "source": [
    "countries = gpd.read_file(gpd.datasets.get_path('naturalearth_lowres'))"
   ]
  },
  {
   "cell_type": "code",
   "execution_count": 33,
   "id": "bfdfdcbe",
   "metadata": {},
   "outputs": [
    {
     "data": {
      "text/plain": [
       "<AxesSubplot: >"
      ]
     },
     "execution_count": 33,
     "metadata": {},
     "output_type": "execute_result"
    },
    {
     "data": {
      "image/png": "[encoded data removed]",
      "text/plain": [
       "<Figure size 640x480 with 1 Axes>"
      ]
     },
     "metadata": {},
     "output_type": "display_data"
    }
   ],
   "source": [
    "# countries.plot(color='g')\n",
    "countries[countries[\"name\"] == \"Mexico\"].plot(color=\"lightgrey\")"
   ]
  },
  {
   "cell_type": "code",
   "execution_count": null,
   "id": "dd8a91ae",
   "metadata": {},
   "outputs": [],
   "source": []
  }
 ],
 "metadata": {
  "kernelspec": {
   "display_name": "Python 3 (ipykernel)",
   "language": "python",
   "name": "python3"
  },
  "language_info": {
   "codemirror_mode": {
    "name": "ipython",
    "version": 3
   },
   "file_extension": ".py",
   "mimetype": "text/x-python",
   "name": "python",
   "nbconvert_exporter": "python",
   "pygments_lexer": "ipython3",
   "version": "3.9.12"
  }
 },
 "nbformat": 4,
 "nbformat_minor": 5
}
