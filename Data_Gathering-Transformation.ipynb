{
 "cells": [
  {
   "cell_type": "code",
   "execution_count": 1,
   "id": "e5b324ab",
   "metadata": {},
   "outputs": [],
   "source": [
    "# Libraries\n",
    "import pandas as pd\n",
    "from paths_ import Path"
   ]
  },
  {
   "cell_type": "markdown",
   "id": "3ede27d5",
   "metadata": {},
   "source": [
    "## read dataset"
   ]
  },
  {
   "cell_type": "code",
   "execution_count": 2,
   "id": "806ba4f7",
   "metadata": {},
   "outputs": [],
   "source": [
    "twitter = Path().readfile()"
   ]
  },
  {
   "cell_type": "code",
   "execution_count": 7,
   "id": "9c573b29",
   "metadata": {},
   "outputs": [],
   "source": [
    "#print(twitter)"
   ]
  },
  {
   "cell_type": "markdown",
   "id": "8d82c1b2",
   "metadata": {},
   "source": [
    "## Create dataframe"
   ]
  },
  {
   "cell_type": "code",
   "execution_count": 4,
   "id": "048683e6",
   "metadata": {},
   "outputs": [],
   "source": [
    "df_read = pd.read_csv(twitter)\n",
    "df = df_read.copy(deep=True)"
   ]
  },
  {
   "cell_type": "markdown",
   "id": "e9416840",
   "metadata": {},
   "source": [
    "## Data Gathering & Transformation"
   ]
  },
  {
   "cell_type": "code",
   "execution_count": 6,
   "id": "27eb120e",
   "metadata": {},
   "outputs": [
    {
     "data": {
      "text/plain": [
       "(1726, 25)"
      ]
     },
     "execution_count": 6,
     "metadata": {},
     "output_type": "execute_result"
    }
   ],
   "source": [
    "df.shape"
   ]
  },
  {
   "cell_type": "code",
   "execution_count": 9,
   "id": "14ccbab8",
   "metadata": {},
   "outputs": [
    {
     "data": {
      "text/plain": [
       "Index(['user_id', 'status_id', 'created_at', 'screen_name', 'text', 'source',\n",
       "       'reply_to_status_id', 'reply_to_user_id', 'is_retweet',\n",
       "       'favorite_count', 'retweet_count', 'lang', 'name', 'description',\n",
       "       'followers_count', 'friends_count', 'statuses_count',\n",
       "       'favourites_count', 'account_created_at', 'verified', 'sentiment_value',\n",
       "       'sentiment_dictionary', 'lat', 'lng', 'City'],\n",
       "      dtype='object')"
      ]
     },
     "execution_count": 9,
     "metadata": {},
     "output_type": "execute_result"
    }
   ],
   "source": [
    "df.columns"
   ]
  },
  {
   "cell_type": "code",
   "execution_count": 10,
   "id": "1570da7f",
   "metadata": {},
   "outputs": [
    {
     "data": {
      "text/plain": [
       "user_id                 float64\n",
       "status_id               float64\n",
       "created_at               object\n",
       "screen_name              object\n",
       "text                     object\n",
       "source                   object\n",
       "reply_to_status_id      float64\n",
       "reply_to_user_id        float64\n",
       "is_retweet                int64\n",
       "favorite_count            int64\n",
       "retweet_count             int64\n",
       "lang                     object\n",
       "name                     object\n",
       "description              object\n",
       "followers_count           int64\n",
       "friends_count             int64\n",
       "statuses_count            int64\n",
       "favourites_count          int64\n",
       "account_created_at       object\n",
       "verified                  int64\n",
       "sentiment_value           int64\n",
       "sentiment_dictionary     object\n",
       "lat                     float64\n",
       "lng                     float64\n",
       "City                     object\n",
       "dtype: object"
      ]
     },
     "execution_count": 10,
     "metadata": {},
     "output_type": "execute_result"
    }
   ],
   "source": [
    "# df.dtypes"
   ]
  },
  {
   "cell_type": "code",
   "execution_count": 33,
   "id": "c16fd203",
   "metadata": {},
   "outputs": [
    {
     "data": {
      "text/plain": [
       "array(['Twitter for Android', 'Twitter Web App', 'TweetDeck',\n",
       "       'Twitter for iPhone', 'ContentStudio.io', 'Twitter for iPad',\n",
       "       'Buffer', 'Hootsuite Inc.', 'Sprout Social', 'twitter-nodejs-bot',\n",
       "       \"kakar's bot\", 'Pythonista Bot', 'SmarterQueue', 'djangoapp_1',\n",
       "       'Fenix 2', 'My1stNewApp', 'PyScale', 'dd_bun_',\n",
       "       'Information Critical', 'DD_Wen_', 'Python Data Science Tweets',\n",
       "       'rstatsretweetingtool', 'Social-Pull-Staging',\n",
       "       'Microsoft Azure Logic Apps', '#100DaysOf2020', 'xael bot',\n",
       "       'Bills Bot', 'SocialPilot.co', 'FAFA_DD_App_2', 'SocialBee.io v2',\n",
       "       'TheBigDataBot', 'TensorFlow RT Bot', 'AI News BOT', '_EllaBot',\n",
       "       'azuerBot', 'RTML', '1dfc', 'AiSpaceBot',\n",
       "       'Serverless Tweet/Retweet Bot', 'Autism_twitter', 'fluttbot',\n",
       "       'the404codeBot', 'DeveloperBot_v1', 'DataScienceRush',\n",
       "       'Postmatico', 'SC COVID19 Update Bot', 'CodeSprintPro',\n",
       "       'DevHighlights', 'PythonRoboto', 'DataScienceInfo',\n",
       "       'Meu primeiro bot', 'Continuous Learning', '_funbot',\n",
       "       'TheDeveloperBot', 'Flutter Bot', 'twitter-bot-fab',\n",
       "       'Microsoft Power Platform', 'Talon Android', 'unh_viz',\n",
       "       'NYC Data Bot', 'r/dataisbeautiful', 'education-bot',\n",
       "       'Twitterrific for iOS', 'opensource_orgs', 'Imminent News',\n",
       "       'botweetecnofagia', 'Sprinklr Publishing', 'DurangoAire',\n",
       "       'Sprinklr', 'Streamlabs Twitter', 'PuroChollo-Publisher',\n",
       "       'Así va España', 'comichaveli', 'Metricool', 'Bot Libre!',\n",
       "       'TweetCaster for Android', 'dlvr.it', 'HV Blog Revive Old Posts',\n",
       "       'oceweb_feeds', 'Emplifi', 'Twitter for Mac', 'Informazione Post',\n",
       "       'IFTTT', 'Pubblicazione prodotti playhouse', 'gigi_magotech',\n",
       "       'Instagram', 'Twibble.io', 'Tweet Informazione', 'MSWOR',\n",
       "       'Lorezobot', 'n8nBot', 'pythonbot007', 'PowerPlatformBot',\n",
       "       'gamedevbot9000', \"1niciat1v3's Bot\", \"L'actualité\",\n",
       "       'Tweetbot for iΟS', '1001rss autopublish', 'Twitter Falcon App',\n",
       "       '3dharvester', 'TwinyBots', 'CoderRetweet', 'Integromat',\n",
       "       'DatazFr', 'Feedpushr', 'Génération-NT', 'Twitter Bot 2020_87',\n",
       "       'rstats2twitter', 'Battement bot', 'partageleen'], dtype=object)"
      ]
     },
     "execution_count": 33,
     "metadata": {},
     "output_type": "execute_result"
    }
   ],
   "source": [
    "df['source'].unique()"
   ]
  },
  {
   "cell_type": "code",
   "execution_count": null,
   "id": "c56d327b",
   "metadata": {},
   "outputs": [],
   "source": []
  }
 ],
 "metadata": {
  "kernelspec": {
   "display_name": "Python 3 (ipykernel)",
   "language": "python",
   "name": "python3"
  },
  "language_info": {
   "codemirror_mode": {
    "name": "ipython",
    "version": 3
   },
   "file_extension": ".py",
   "mimetype": "text/x-python",
   "name": "python",
   "nbconvert_exporter": "python",
   "pygments_lexer": "ipython3",
   "version": "3.9.12"
  }
 },
 "nbformat": 4,
 "nbformat_minor": 5
}
