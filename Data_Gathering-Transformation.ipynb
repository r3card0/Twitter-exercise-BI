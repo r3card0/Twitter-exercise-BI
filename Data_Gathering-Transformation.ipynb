{
 "cells": [
  {
   "cell_type": "markdown",
   "id": "fb92f351",
   "metadata": {},
   "source": [
    "# Data Gathering & Transformation\n",
    "This is set of setps to figure out how the data is comming. It is starting to see the shape of the dataframe"
   ]
  },
  {
   "cell_type": "code",
   "execution_count": 45,
   "id": "e5b324ab",
   "metadata": {},
   "outputs": [],
   "source": [
    "# Libraries\n",
    "import pandas as pd\n",
    "from paths_ import Path\n",
    "import numpy as np"
   ]
  },
  {
   "cell_type": "markdown",
   "id": "b532445a",
   "metadata": {},
   "source": [
    "## read dataset"
   ]
  },
  {
   "cell_type": "code",
   "execution_count": 46,
   "id": "806ba4f7",
   "metadata": {},
   "outputs": [],
   "source": [
    "twitter = Path().readfile()"
   ]
  },
  {
   "cell_type": "code",
   "execution_count": 47,
   "id": "9c573b29",
   "metadata": {},
   "outputs": [],
   "source": [
    "#print(twitter)"
   ]
  },
  {
   "cell_type": "markdown",
   "id": "a73e8085",
   "metadata": {},
   "source": [
    "## Create dataframe"
   ]
  },
  {
   "cell_type": "code",
   "execution_count": 48,
   "id": "048683e6",
   "metadata": {},
   "outputs": [],
   "source": [
    "df_read = pd.read_csv(twitter)\n",
    "df = df_read.copy(deep=True)"
   ]
  },
  {
   "cell_type": "code",
   "execution_count": 49,
   "id": "27eb120e",
   "metadata": {},
   "outputs": [
    {
     "data": {
      "text/plain": [
       "(1726, 25)"
      ]
     },
     "execution_count": 49,
     "metadata": {},
     "output_type": "execute_result"
    }
   ],
   "source": [
    "df.shape"
   ]
  },
  {
   "cell_type": "markdown",
   "id": "b230f9b8",
   "metadata": {},
   "source": [
    "Then, explore the data of the datafrem visualizing a few lines for example 5 of them randomly"
   ]
  },
  {
   "cell_type": "code",
   "execution_count": 50,
   "id": "c46ded06",
   "metadata": {
    "scrolled": true
   },
   "outputs": [],
   "source": [
    "# df.sample(5)"
   ]
  },
  {
   "cell_type": "markdown",
   "id": "6bb300d5",
   "metadata": {},
   "source": [
    "Then, list all the columns to start by recognizing more details"
   ]
  },
  {
   "cell_type": "code",
   "execution_count": 51,
   "id": "5ccb7a95",
   "metadata": {
    "scrolled": true
   },
   "outputs": [],
   "source": [
    "# df.columns"
   ]
  },
  {
   "cell_type": "markdown",
   "id": "c15a81c8",
   "metadata": {},
   "source": [
    "Explore the types of each field"
   ]
  },
  {
   "cell_type": "code",
   "execution_count": 52,
   "id": "4d81c919",
   "metadata": {
    "scrolled": true
   },
   "outputs": [],
   "source": [
    "# df.dtypes"
   ]
  },
  {
   "cell_type": "markdown",
   "id": "a08f6520",
   "metadata": {},
   "source": [
    "Explore some fields like: source, sentiment_value, lang, lat,lng, etc"
   ]
  },
  {
   "cell_type": "code",
   "execution_count": 53,
   "id": "3d291880",
   "metadata": {},
   "outputs": [],
   "source": [
    "# df['source'].unique()"
   ]
  },
  {
   "cell_type": "markdown",
   "id": "11a66f9d",
   "metadata": {},
   "source": [
    "### Replace NaN values on numerical fields"
   ]
  },
  {
   "cell_type": "code",
   "execution_count": 54,
   "id": "74847fe7",
   "metadata": {},
   "outputs": [],
   "source": [
    "class FillNaN:\n",
    "    def __init__(self,dataframe) -> None:\n",
    "        self.dataframe = dataframe\n",
    "\n",
    "    def fill_numerical(self):\n",
    "        self.numerical_column_list = self.dataframe.dtypes[(self.dataframe.dtypes == 'int64') | (self.dataframe.dtypes == 'float64')].index\n",
    "\n",
    "        for col in self.numerical_column_list:\n",
    "            self.dataframe[col].replace(np.nan,0,inplace=True)\n",
    "\n",
    "        return self.dataframe"
   ]
  },
  {
   "cell_type": "code",
   "execution_count": 55,
   "id": "1ffd416a",
   "metadata": {},
   "outputs": [],
   "source": [
    "replace_null = FillNaN(df).fill_numerical()"
   ]
  },
  {
   "cell_type": "markdown",
   "id": "d979034f",
   "metadata": {},
   "source": [
    "Watch the outcome"
   ]
  },
  {
   "cell_type": "code",
   "execution_count": 56,
   "id": "0a545c40",
   "metadata": {},
   "outputs": [],
   "source": [
    "# df.head(5)"
   ]
  },
  {
   "cell_type": "markdown",
   "id": "d0c596bc",
   "metadata": {},
   "source": [
    "### Split City values into City and country fields"
   ]
  },
  {
   "cell_type": "code",
   "execution_count": 57,
   "id": "c19e55e9",
   "metadata": {},
   "outputs": [],
   "source": [
    "# Split City into City and country\n",
    "df[['City','country']] = df['City'].str.split(',',1,expand=True)"
   ]
  },
  {
   "cell_type": "markdown",
   "id": "a533c6c5",
   "metadata": {},
   "source": [
    "### Replace invalid location descriptions"
   ]
  },
  {
   "cell_type": "code",
   "execution_count": 58,
   "id": "955b2290",
   "metadata": {},
   "outputs": [
    {
     "data": {
      "text/plain": [
       "array(['Mexico', 'Netherlands', 'Egypt', 'Italy', 'Philippines', 'Spain',\n",
       "       'Romania', 'Colombia', 'Kenya', 'Denmark', 'New Zealand',\n",
       "       'Luxembourg', 'Peru', 'Cuba', 'Japan', 'Greece', 'Belize',\n",
       "       'Dominican Republic', 'Argentina', 'Chile', 'Costa Rica',\n",
       "       'United States', 'Nigeria', 'Switzerland', 'Poland', 'Ecuador',\n",
       "       None, 'Hungary', 'South Africa', 'Korea, South', 'Angola',\n",
       "       'Ireland', 'Germany', 'Sweden', 'Senegal', 'France', 'Finland',\n",
       "       'Croatia', ' and wild boar', 'Belgium', 'Andorra', 'Bolivia',\n",
       "       'Hong Kong'], dtype=object)"
      ]
     },
     "execution_count": 58,
     "metadata": {},
     "output_type": "execute_result"
    }
   ],
   "source": [
    "df['country'].unique()"
   ]
  },
  {
   "cell_type": "markdown",
   "id": "f31f1ea1",
   "metadata": {},
   "source": [
    "There is an invalid name:' and wild boar'"
   ]
  },
  {
   "cell_type": "code",
   "execution_count": 59,
   "id": "1e229eca",
   "metadata": {},
   "outputs": [
    {
     "data": {
      "text/html": [
       "<div>\n",
       "<style scoped>\n",
       "    .dataframe tbody tr th:only-of-type {\n",
       "        vertical-align: middle;\n",
       "    }\n",
       "\n",
       "    .dataframe tbody tr th {\n",
       "        vertical-align: top;\n",
       "    }\n",
       "\n",
       "    .dataframe thead th {\n",
       "        text-align: right;\n",
       "    }\n",
       "</style>\n",
       "<table border=\"1\" class=\"dataframe\">\n",
       "  <thead>\n",
       "    <tr style=\"text-align: right;\">\n",
       "      <th></th>\n",
       "      <th>user_id</th>\n",
       "      <th>status_id</th>\n",
       "      <th>created_at</th>\n",
       "      <th>screen_name</th>\n",
       "      <th>text</th>\n",
       "      <th>source</th>\n",
       "      <th>reply_to_status_id</th>\n",
       "      <th>reply_to_user_id</th>\n",
       "      <th>is_retweet</th>\n",
       "      <th>favorite_count</th>\n",
       "      <th>...</th>\n",
       "      <th>statuses_count</th>\n",
       "      <th>favourites_count</th>\n",
       "      <th>account_created_at</th>\n",
       "      <th>verified</th>\n",
       "      <th>sentiment_value</th>\n",
       "      <th>sentiment_dictionary</th>\n",
       "      <th>lat</th>\n",
       "      <th>lng</th>\n",
       "      <th>City</th>\n",
       "      <th>country</th>\n",
       "    </tr>\n",
       "  </thead>\n",
       "  <tbody>\n",
       "    <tr>\n",
       "      <th>272</th>\n",
       "      <td>8.710000e+17</td>\n",
       "      <td>1.430000e+18</td>\n",
       "      <td>Aug 9, 2021</td>\n",
       "      <td>NeilSalter4</td>\n",
       "      <td>We use 30 year averages to show climatology (a...</td>\n",
       "      <td>Twitter for Android</td>\n",
       "      <td>0.0</td>\n",
       "      <td>0.0</td>\n",
       "      <td>1</td>\n",
       "      <td>0</td>\n",
       "      <td>...</td>\n",
       "      <td>67556</td>\n",
       "      <td>101844</td>\n",
       "      <td>04/06/2017 13:59</td>\n",
       "      <td>0</td>\n",
       "      <td>-5</td>\n",
       "      <td>AFINN</td>\n",
       "      <td>-2.8974</td>\n",
       "      <td>-79.0045</td>\n",
       "      <td>With my family</td>\n",
       "      <td>and wild boar</td>\n",
       "    </tr>\n",
       "  </tbody>\n",
       "</table>\n",
       "<p>1 rows × 26 columns</p>\n",
       "</div>"
      ],
      "text/plain": [
       "          user_id     status_id   created_at  screen_name  \\\n",
       "272  8.710000e+17  1.430000e+18  Aug 9, 2021  NeilSalter4   \n",
       "\n",
       "                                                  text               source  \\\n",
       "272  We use 30 year averages to show climatology (a...  Twitter for Android   \n",
       "\n",
       "     reply_to_status_id  reply_to_user_id  is_retweet  favorite_count  ...  \\\n",
       "272                 0.0               0.0           1               0  ...   \n",
       "\n",
       "     statuses_count favourites_count account_created_at verified  \\\n",
       "272           67556           101844   04/06/2017 13:59        0   \n",
       "\n",
       "     sentiment_value  sentiment_dictionary     lat      lng            City  \\\n",
       "272               -5                 AFINN -2.8974 -79.0045  With my family   \n",
       "\n",
       "            country  \n",
       "272   and wild boar  \n",
       "\n",
       "[1 rows x 26 columns]"
      ]
     },
     "execution_count": 59,
     "metadata": {},
     "output_type": "execute_result"
    }
   ],
   "source": [
    "df[df['country'] == ' and wild boar']"
   ]
  },
  {
   "cell_type": "markdown",
   "id": "d7443269",
   "metadata": {},
   "source": [
    "These coordinates(-2.8974,-79.0045), belong at Cuenca city in Ecuador. [map](https://www.google.com/maps/place/2%C2%B053'50.6%22S+79%C2%B000'16.2%22W/@-2.8989529,-79.0279408,13.82z/data=!4m4!3m3!8m2!3d-2.8974!4d-79.0045)"
   ]
  },
  {
   "cell_type": "code",
   "execution_count": 60,
   "id": "9f4b54f0",
   "metadata": {},
   "outputs": [],
   "source": [
    "df['country'].replace({' and wild boar':'Ecuador'},inplace=True)"
   ]
  },
  {
   "cell_type": "code",
   "execution_count": 61,
   "id": "1cc14489",
   "metadata": {},
   "outputs": [],
   "source": [
    "df['City'].replace({'With my family':'Cuenca'},inplace=True)"
   ]
  },
  {
   "cell_type": "code",
   "execution_count": 62,
   "id": "6f956854",
   "metadata": {},
   "outputs": [
    {
     "data": {
      "text/plain": [
       "user_id                                              871000000000000000.0\n",
       "status_id                                           1430000000000000000.0\n",
       "created_at                                                    Aug 9, 2021\n",
       "screen_name                                                   NeilSalter4\n",
       "text                    We use 30 year averages to show climatology (a...\n",
       "source                                                Twitter for Android\n",
       "reply_to_status_id                                                    0.0\n",
       "reply_to_user_id                                                      0.0\n",
       "is_retweet                                                              1\n",
       "favorite_count                                                          0\n",
       "retweet_count                                                         679\n",
       "lang                                                                   en\n",
       "name                                                          Neil Salter\n",
       "description             #ecosocialism #socialism #MMT \\nNo surrender t...\n",
       "followers_count                                                      4771\n",
       "friends_count                                                        5249\n",
       "statuses_count                                                      67556\n",
       "favourites_count                                                   101844\n",
       "account_created_at                                       04/06/2017 13:59\n",
       "verified                                                                0\n",
       "sentiment_value                                                        -5\n",
       "sentiment_dictionary                                                AFINN\n",
       "lat                                                               -2.8974\n",
       "lng                                                              -79.0045\n",
       "City                                                               Cuenca\n",
       "country                                                           Ecuador\n",
       "Name: 272, dtype: object"
      ]
     },
     "execution_count": 62,
     "metadata": {},
     "output_type": "execute_result"
    }
   ],
   "source": [
    "df.loc[272]"
   ]
  },
  {
   "cell_type": "code",
   "execution_count": 63,
   "id": "524fa01b",
   "metadata": {
    "scrolled": true
   },
   "outputs": [
    {
     "data": {
      "text/plain": [
       "array(['Mexico', 'Netherlands', 'Egypt', 'Italy', 'Philippines', 'Spain',\n",
       "       'Romania', 'Colombia', 'Kenya', 'Denmark', 'New Zealand',\n",
       "       'Luxembourg', 'Peru', 'Cuba', 'Japan', 'Greece', 'Belize',\n",
       "       'Dominican Republic', 'Argentina', 'Chile', 'Costa Rica',\n",
       "       'United States', 'Nigeria', 'Switzerland', 'Poland', 'Ecuador',\n",
       "       None, 'Hungary', 'South Africa', 'Korea, South', 'Angola',\n",
       "       'Ireland', 'Germany', 'Sweden', 'Senegal', 'France', 'Finland',\n",
       "       'Croatia', 'Belgium', 'Andorra', 'Bolivia', 'Hong Kong'],\n",
       "      dtype=object)"
      ]
     },
     "execution_count": 63,
     "metadata": {},
     "output_type": "execute_result"
    }
   ],
   "source": [
    "df['country'].unique()"
   ]
  },
  {
   "cell_type": "markdown",
   "id": "e20e45d4",
   "metadata": {},
   "source": [
    "### Rename column 'lng' to 'lon'"
   ]
  },
  {
   "cell_type": "code",
   "execution_count": 64,
   "id": "99f9d367",
   "metadata": {},
   "outputs": [],
   "source": [
    "# rename column lng\n",
    "df = df.rename(columns={'lng':'lon'})"
   ]
  },
  {
   "cell_type": "markdown",
   "id": "416e1f68",
   "metadata": {},
   "source": [
    "### Format column's date"
   ]
  },
  {
   "cell_type": "code",
   "execution_count": 65,
   "id": "12b6a347",
   "metadata": {},
   "outputs": [],
   "source": [
    "# format column's date\n",
    "# df[['account_created_at','created_at']]\n",
    "df['created_at'] = pd.to_datetime(df['created_at'])\n",
    "df['account_created_at'] = pd.to_datetime(df['account_created_at'])"
   ]
  },
  {
   "cell_type": "code",
   "execution_count": 66,
   "id": "61f1fdd7",
   "metadata": {
    "scrolled": false
   },
   "outputs": [],
   "source": [
    "# df.dtypes"
   ]
  },
  {
   "cell_type": "markdown",
   "id": "7cc9d50a",
   "metadata": {},
   "source": [
    "### source - classification as user or a Bot\n",
    "\n",
    "The characters \"bot\" and \"Bot\", both remain on some source data values. They can be at the begining, at the end or between other characters. For this reason It will be applied regex methods to classify and create a new field that show if the source comes from an User or a Bot."
   ]
  },
  {
   "cell_type": "code",
   "execution_count": 67,
   "id": "bb4aaec8",
   "metadata": {},
   "outputs": [],
   "source": [
    "import re\n",
    "\n",
    "class User_or_bot:\n",
    "    def __init__(self):\n",
    "        self.sourceList = list(df['source'])\n",
    "        self.is_userList = []\n",
    "    \n",
    "    def user_evaluation(self):      \n",
    "        \n",
    "        for i in range(0,len(self.sourceList)):\n",
    "    \n",
    "            if re.search(\"bot|Bot\",self.sourceList[i]):\n",
    "                self.is_userList.append('Bot')\n",
    "            else:\n",
    "                self.is_userList.append('User')\n",
    "        \n",
    "        return self.is_userList"
   ]
  },
  {
   "cell_type": "code",
   "execution_count": 68,
   "id": "3a2a7bb4",
   "metadata": {},
   "outputs": [],
   "source": [
    "df['user_or_bot'] = User_or_bot().user_evaluation()"
   ]
  },
  {
   "cell_type": "code",
   "execution_count": 69,
   "id": "ec906b6a",
   "metadata": {},
   "outputs": [
    {
     "data": {
      "text/plain": [
       "array(['User', 'Bot'], dtype=object)"
      ]
     },
     "execution_count": 69,
     "metadata": {},
     "output_type": "execute_result"
    }
   ],
   "source": [
    "df['user_or_bot'].unique()"
   ]
  },
  {
   "cell_type": "markdown",
   "id": "0cb6826b",
   "metadata": {},
   "source": [
    "### Sentiment_value classification"
   ]
  },
  {
   "cell_type": "code",
   "execution_count": 70,
   "id": "367603b1",
   "metadata": {},
   "outputs": [],
   "source": [
    "# aplicar codigo para clasificar los valores de sentiment_value\n",
    "sentimentList = []\n",
    "for value in list(df['sentiment_value']):\n",
    "    if value > 0:\n",
    "        sentimentList.append('Positive') \n",
    "    elif value < 0:\n",
    "        sentimentList.append('Negative') \n",
    "    else:\n",
    "        sentimentList.append('Neutral') "
   ]
  },
  {
   "cell_type": "code",
   "execution_count": 71,
   "id": "499f02e0",
   "metadata": {},
   "outputs": [],
   "source": [
    "# print(sentimentList)\n",
    "df['sentiment'] = sentimentList"
   ]
  },
  {
   "cell_type": "code",
   "execution_count": 72,
   "id": "ea4211e6",
   "metadata": {},
   "outputs": [
    {
     "data": {
      "text/plain": [
       "array(['Positive', 'Negative', 'Neutral'], dtype=object)"
      ]
     },
     "execution_count": 72,
     "metadata": {},
     "output_type": "execute_result"
    }
   ],
   "source": [
    "\n",
    "df['sentiment'].unique()"
   ]
  },
  {
   "cell_type": "code",
   "execution_count": 73,
   "id": "114cc438",
   "metadata": {
    "scrolled": true
   },
   "outputs": [
    {
     "data": {
      "text/html": [
       "<div>\n",
       "<style scoped>\n",
       "    .dataframe tbody tr th:only-of-type {\n",
       "        vertical-align: middle;\n",
       "    }\n",
       "\n",
       "    .dataframe tbody tr th {\n",
       "        vertical-align: top;\n",
       "    }\n",
       "\n",
       "    .dataframe thead th {\n",
       "        text-align: right;\n",
       "    }\n",
       "</style>\n",
       "<table border=\"1\" class=\"dataframe\">\n",
       "  <thead>\n",
       "    <tr style=\"text-align: right;\">\n",
       "      <th></th>\n",
       "      <th>user_id</th>\n",
       "      <th>status_id</th>\n",
       "      <th>created_at</th>\n",
       "      <th>screen_name</th>\n",
       "      <th>text</th>\n",
       "      <th>source</th>\n",
       "      <th>reply_to_status_id</th>\n",
       "      <th>reply_to_user_id</th>\n",
       "      <th>is_retweet</th>\n",
       "      <th>favorite_count</th>\n",
       "      <th>...</th>\n",
       "      <th>account_created_at</th>\n",
       "      <th>verified</th>\n",
       "      <th>sentiment_value</th>\n",
       "      <th>sentiment_dictionary</th>\n",
       "      <th>lat</th>\n",
       "      <th>lon</th>\n",
       "      <th>City</th>\n",
       "      <th>country</th>\n",
       "      <th>user_or_bot</th>\n",
       "      <th>sentiment</th>\n",
       "    </tr>\n",
       "  </thead>\n",
       "  <tbody>\n",
       "    <tr>\n",
       "      <th>853</th>\n",
       "      <td>1.320000e+18</td>\n",
       "      <td>1.430000e+18</td>\n",
       "      <td>2021-08-31</td>\n",
       "      <td>baddietamal</td>\n",
       "      <td>solo falta la ssd y el almacenamiento, me sien...</td>\n",
       "      <td>Twitter for iPhone</td>\n",
       "      <td>0.0</td>\n",
       "      <td>0.0</td>\n",
       "      <td>0</td>\n",
       "      <td>5</td>\n",
       "      <td>...</td>\n",
       "      <td>2020-10-16 07:13:00</td>\n",
       "      <td>0</td>\n",
       "      <td>-1</td>\n",
       "      <td>AFINN</td>\n",
       "      <td>34.7500</td>\n",
       "      <td>135.4601</td>\n",
       "      <td>Ōsaka</td>\n",
       "      <td>Japan</td>\n",
       "      <td>User</td>\n",
       "      <td>Negative</td>\n",
       "    </tr>\n",
       "    <tr>\n",
       "      <th>460</th>\n",
       "      <td>1.350000e+18</td>\n",
       "      <td>1.430000e+18</td>\n",
       "      <td>2021-08-27</td>\n",
       "      <td>Loise_Nyambura_</td>\n",
       "      <td>We use 30 year averages to show climatology (a...</td>\n",
       "      <td>Twitter for Android</td>\n",
       "      <td>0.0</td>\n",
       "      <td>0.0</td>\n",
       "      <td>1</td>\n",
       "      <td>0</td>\n",
       "      <td>...</td>\n",
       "      <td>2021-05-01 03:52:00</td>\n",
       "      <td>0</td>\n",
       "      <td>0</td>\n",
       "      <td>AFINN</td>\n",
       "      <td>58.4546</td>\n",
       "      <td>-134.1739</td>\n",
       "      <td>Juneau</td>\n",
       "      <td>United States</td>\n",
       "      <td>User</td>\n",
       "      <td>Neutral</td>\n",
       "    </tr>\n",
       "    <tr>\n",
       "      <th>108</th>\n",
       "      <td>2.728621e+09</td>\n",
       "      <td>1.430000e+18</td>\n",
       "      <td>2021-08-15</td>\n",
       "      <td>DD_Bun_</td>\n",
       "      <td>Premium Generative Art T-Shirt 001 https://t.c...</td>\n",
       "      <td>dd_bun_</td>\n",
       "      <td>0.0</td>\n",
       "      <td>0.0</td>\n",
       "      <td>0</td>\n",
       "      <td>0</td>\n",
       "      <td>...</td>\n",
       "      <td>2014-08-13 05:18:00</td>\n",
       "      <td>0</td>\n",
       "      <td>0</td>\n",
       "      <td>AFINN</td>\n",
       "      <td>50.8725</td>\n",
       "      <td>20.6319</td>\n",
       "      <td>Kielce</td>\n",
       "      <td>Poland</td>\n",
       "      <td>User</td>\n",
       "      <td>Neutral</td>\n",
       "    </tr>\n",
       "  </tbody>\n",
       "</table>\n",
       "<p>3 rows × 28 columns</p>\n",
       "</div>"
      ],
      "text/plain": [
       "          user_id     status_id created_at      screen_name  \\\n",
       "853  1.320000e+18  1.430000e+18 2021-08-31      baddietamal   \n",
       "460  1.350000e+18  1.430000e+18 2021-08-27  Loise_Nyambura_   \n",
       "108  2.728621e+09  1.430000e+18 2021-08-15          DD_Bun_   \n",
       "\n",
       "                                                  text               source  \\\n",
       "853  solo falta la ssd y el almacenamiento, me sien...   Twitter for iPhone   \n",
       "460  We use 30 year averages to show climatology (a...  Twitter for Android   \n",
       "108  Premium Generative Art T-Shirt 001 https://t.c...              dd_bun_   \n",
       "\n",
       "     reply_to_status_id  reply_to_user_id  is_retweet  favorite_count  ...  \\\n",
       "853                 0.0               0.0           0               5  ...   \n",
       "460                 0.0               0.0           1               0  ...   \n",
       "108                 0.0               0.0           0               0  ...   \n",
       "\n",
       "     account_created_at verified sentiment_value sentiment_dictionary  \\\n",
       "853 2020-10-16 07:13:00        0              -1                AFINN   \n",
       "460 2021-05-01 03:52:00        0               0                AFINN   \n",
       "108 2014-08-13 05:18:00        0               0                AFINN   \n",
       "\n",
       "         lat       lon     City        country user_or_bot  sentiment  \n",
       "853  34.7500  135.4601   Ōsaka           Japan        User   Negative  \n",
       "460  58.4546 -134.1739  Juneau   United States        User    Neutral  \n",
       "108  50.8725   20.6319  Kielce          Poland        User    Neutral  \n",
       "\n",
       "[3 rows x 28 columns]"
      ]
     },
     "execution_count": 73,
     "metadata": {},
     "output_type": "execute_result"
    }
   ],
   "source": [
    "df.sample(3)"
   ]
  },
  {
   "cell_type": "markdown",
   "id": "ab46d846",
   "metadata": {},
   "source": [
    "### Year - Month"
   ]
  },
  {
   "cell_type": "code",
   "execution_count": 74,
   "id": "5f61352a",
   "metadata": {},
   "outputs": [],
   "source": [
    "def year():\n",
    "    year = []\n",
    "    for y in df['created_at'].astype(str):\n",
    "        year.append(y[:4])\n",
    "        \n",
    "    return year\n",
    "    "
   ]
  },
  {
   "cell_type": "code",
   "execution_count": 75,
   "id": "9055bd25",
   "metadata": {},
   "outputs": [],
   "source": [
    "df['year'] = year()"
   ]
  },
  {
   "cell_type": "code",
   "execution_count": 76,
   "id": "7d8ef822",
   "metadata": {},
   "outputs": [],
   "source": [
    "def month():\n",
    "    monthNum = []\n",
    "    for m in df['created_at'].astype(str):\n",
    "        monthNum.append(m[5:7])\n",
    "                \n",
    "    return monthNum"
   ]
  },
  {
   "cell_type": "code",
   "execution_count": 78,
   "id": "38bedf61",
   "metadata": {},
   "outputs": [],
   "source": [
    "df['month_num'] = month()"
   ]
  },
  {
   "cell_type": "code",
   "execution_count": 79,
   "id": "8306224c",
   "metadata": {},
   "outputs": [],
   "source": [
    "df['month'] = df['month_num'].replace(['01','02','03','04','05','06','07','08','09','10','11','12'],['January','February','March','April','May','June','July','August','September','October','November','December'])"
   ]
  },
  {
   "cell_type": "code",
   "execution_count": 80,
   "id": "f3d3400e",
   "metadata": {},
   "outputs": [],
   "source": [
    "# df['created_at'].unique()"
   ]
  },
  {
   "cell_type": "code",
   "execution_count": 81,
   "id": "b43f944b",
   "metadata": {},
   "outputs": [
    {
     "data": {
      "text/html": [
       "<div>\n",
       "<style scoped>\n",
       "    .dataframe tbody tr th:only-of-type {\n",
       "        vertical-align: middle;\n",
       "    }\n",
       "\n",
       "    .dataframe tbody tr th {\n",
       "        vertical-align: top;\n",
       "    }\n",
       "\n",
       "    .dataframe thead th {\n",
       "        text-align: right;\n",
       "    }\n",
       "</style>\n",
       "<table border=\"1\" class=\"dataframe\">\n",
       "  <thead>\n",
       "    <tr style=\"text-align: right;\">\n",
       "      <th></th>\n",
       "      <th>user_id</th>\n",
       "      <th>status_id</th>\n",
       "      <th>created_at</th>\n",
       "      <th>screen_name</th>\n",
       "      <th>text</th>\n",
       "      <th>source</th>\n",
       "      <th>reply_to_status_id</th>\n",
       "      <th>reply_to_user_id</th>\n",
       "      <th>is_retweet</th>\n",
       "      <th>favorite_count</th>\n",
       "      <th>...</th>\n",
       "      <th>sentiment_dictionary</th>\n",
       "      <th>lat</th>\n",
       "      <th>lon</th>\n",
       "      <th>City</th>\n",
       "      <th>country</th>\n",
       "      <th>user_or_bot</th>\n",
       "      <th>sentiment</th>\n",
       "      <th>year</th>\n",
       "      <th>month_num</th>\n",
       "      <th>month</th>\n",
       "    </tr>\n",
       "  </thead>\n",
       "  <tbody>\n",
       "    <tr>\n",
       "      <th>1159</th>\n",
       "      <td>4.828750e+08</td>\n",
       "      <td>1.430000e+18</td>\n",
       "      <td>2021-08-04</td>\n",
       "      <td>P_risks</td>\n",
       "      <td>Chi investe di più in #ricerca e sviluppo nel ...</td>\n",
       "      <td>Twitter for Android</td>\n",
       "      <td>0.0</td>\n",
       "      <td>0.0</td>\n",
       "      <td>1</td>\n",
       "      <td>0</td>\n",
       "      <td>...</td>\n",
       "      <td>AFINN</td>\n",
       "      <td>10.7500</td>\n",
       "      <td>121.9500</td>\n",
       "      <td>San Jose</td>\n",
       "      <td>Philippines</td>\n",
       "      <td>User</td>\n",
       "      <td>Positive</td>\n",
       "      <td>2021</td>\n",
       "      <td>08</td>\n",
       "      <td>August</td>\n",
       "    </tr>\n",
       "    <tr>\n",
       "      <th>1403</th>\n",
       "      <td>8.310000e+17</td>\n",
       "      <td>1.430000e+18</td>\n",
       "      <td>2021-08-28</td>\n",
       "      <td>regioneFVGit</td>\n",
       "      <td>📰 È online da oggi il nuovo numero del notizia...</td>\n",
       "      <td>Twitter Web App</td>\n",
       "      <td>0.0</td>\n",
       "      <td>0.0</td>\n",
       "      <td>1</td>\n",
       "      <td>0</td>\n",
       "      <td>...</td>\n",
       "      <td>AFINN</td>\n",
       "      <td>18.9186</td>\n",
       "      <td>-99.2342</td>\n",
       "      <td>Cuernavaca</td>\n",
       "      <td>Mexico</td>\n",
       "      <td>User</td>\n",
       "      <td>Negative</td>\n",
       "      <td>2021</td>\n",
       "      <td>08</td>\n",
       "      <td>August</td>\n",
       "    </tr>\n",
       "    <tr>\n",
       "      <th>148</th>\n",
       "      <td>1.130000e+18</td>\n",
       "      <td>1.430000e+18</td>\n",
       "      <td>2021-08-07</td>\n",
       "      <td>xaelbot</td>\n",
       "      <td>Infographic: What Is Data Science? A Beginner’...</td>\n",
       "      <td>xael bot</td>\n",
       "      <td>0.0</td>\n",
       "      <td>0.0</td>\n",
       "      <td>1</td>\n",
       "      <td>0</td>\n",
       "      <td>...</td>\n",
       "      <td>AFINN</td>\n",
       "      <td>48.1147</td>\n",
       "      <td>-1.6794</td>\n",
       "      <td>Rennes</td>\n",
       "      <td>France</td>\n",
       "      <td>Bot</td>\n",
       "      <td>Neutral</td>\n",
       "      <td>2021</td>\n",
       "      <td>08</td>\n",
       "      <td>August</td>\n",
       "    </tr>\n",
       "  </tbody>\n",
       "</table>\n",
       "<p>3 rows × 31 columns</p>\n",
       "</div>"
      ],
      "text/plain": [
       "           user_id     status_id created_at   screen_name  \\\n",
       "1159  4.828750e+08  1.430000e+18 2021-08-04       P_risks   \n",
       "1403  8.310000e+17  1.430000e+18 2021-08-28  regioneFVGit   \n",
       "148   1.130000e+18  1.430000e+18 2021-08-07       xaelbot   \n",
       "\n",
       "                                                   text               source  \\\n",
       "1159  Chi investe di più in #ricerca e sviluppo nel ...  Twitter for Android   \n",
       "1403  📰 È online da oggi il nuovo numero del notizia...      Twitter Web App   \n",
       "148   Infographic: What Is Data Science? A Beginner’...             xael bot   \n",
       "\n",
       "      reply_to_status_id  reply_to_user_id  is_retweet  favorite_count  ...  \\\n",
       "1159                 0.0               0.0           1               0  ...   \n",
       "1403                 0.0               0.0           1               0  ...   \n",
       "148                  0.0               0.0           1               0  ...   \n",
       "\n",
       "      sentiment_dictionary      lat       lon         City      country  \\\n",
       "1159                 AFINN  10.7500  121.9500    San Jose   Philippines   \n",
       "1403                 AFINN  18.9186  -99.2342  Cuernavaca        Mexico   \n",
       "148                  AFINN  48.1147   -1.6794      Rennes        France   \n",
       "\n",
       "      user_or_bot  sentiment  year month_num   month  \n",
       "1159         User   Positive  2021        08  August  \n",
       "1403         User   Negative  2021        08  August  \n",
       "148           Bot    Neutral  2021        08  August  \n",
       "\n",
       "[3 rows x 31 columns]"
      ]
     },
     "execution_count": 81,
     "metadata": {},
     "output_type": "execute_result"
    }
   ],
   "source": [
    "df.sample(3)"
   ]
  },
  {
   "cell_type": "markdown",
   "id": "cf159f7b",
   "metadata": {},
   "source": [
    "### Is retweet\n",
    "Replace values 0,1 to False and True"
   ]
  },
  {
   "cell_type": "code",
   "execution_count": 82,
   "id": "698a3779",
   "metadata": {},
   "outputs": [],
   "source": [
    "df['is_retweet'] = df['is_retweet'].replace({0:False,1:True})"
   ]
  },
  {
   "cell_type": "code",
   "execution_count": 83,
   "id": "eeedb05c",
   "metadata": {},
   "outputs": [
    {
     "data": {
      "text/plain": [
       "array([False,  True])"
      ]
     },
     "execution_count": 83,
     "metadata": {},
     "output_type": "execute_result"
    }
   ],
   "source": [
    "df['is_retweet'].unique()"
   ]
  },
  {
   "cell_type": "code",
   "execution_count": 84,
   "id": "f40c94cc",
   "metadata": {
    "scrolled": true
   },
   "outputs": [
    {
     "data": {
      "text/html": [
       "<div>\n",
       "<style scoped>\n",
       "    .dataframe tbody tr th:only-of-type {\n",
       "        vertical-align: middle;\n",
       "    }\n",
       "\n",
       "    .dataframe tbody tr th {\n",
       "        vertical-align: top;\n",
       "    }\n",
       "\n",
       "    .dataframe thead th {\n",
       "        text-align: right;\n",
       "    }\n",
       "</style>\n",
       "<table border=\"1\" class=\"dataframe\">\n",
       "  <thead>\n",
       "    <tr style=\"text-align: right;\">\n",
       "      <th></th>\n",
       "      <th>user_id</th>\n",
       "      <th>status_id</th>\n",
       "      <th>created_at</th>\n",
       "      <th>screen_name</th>\n",
       "      <th>text</th>\n",
       "      <th>source</th>\n",
       "      <th>reply_to_status_id</th>\n",
       "      <th>reply_to_user_id</th>\n",
       "      <th>is_retweet</th>\n",
       "      <th>favorite_count</th>\n",
       "      <th>...</th>\n",
       "      <th>sentiment_dictionary</th>\n",
       "      <th>lat</th>\n",
       "      <th>lon</th>\n",
       "      <th>City</th>\n",
       "      <th>country</th>\n",
       "      <th>user_or_bot</th>\n",
       "      <th>sentiment</th>\n",
       "      <th>year</th>\n",
       "      <th>month_num</th>\n",
       "      <th>month</th>\n",
       "    </tr>\n",
       "  </thead>\n",
       "  <tbody>\n",
       "    <tr>\n",
       "      <th>500</th>\n",
       "      <td>96350647.0</td>\n",
       "      <td>1.430000e+18</td>\n",
       "      <td>2021-08-17</td>\n",
       "      <td>PeterG4NES2019</td>\n",
       "      <td>We use 30 year averages to show climatology (a...</td>\n",
       "      <td>Twitter Web App</td>\n",
       "      <td>0.0</td>\n",
       "      <td>0.0</td>\n",
       "      <td>True</td>\n",
       "      <td>0</td>\n",
       "      <td>...</td>\n",
       "      <td>AFINN</td>\n",
       "      <td>63.1775</td>\n",
       "      <td>14.6414</td>\n",
       "      <td>Östersund</td>\n",
       "      <td>Sweden</td>\n",
       "      <td>User</td>\n",
       "      <td>Positive</td>\n",
       "      <td>2021</td>\n",
       "      <td>08</td>\n",
       "      <td>August</td>\n",
       "    </tr>\n",
       "    <tr>\n",
       "      <th>833</th>\n",
       "      <td>380563976.0</td>\n",
       "      <td>1.430000e+18</td>\n",
       "      <td>2021-08-15</td>\n",
       "      <td>octavioq116</td>\n",
       "      <td>¿Habrá alguien que le crea a estos idiotas que...</td>\n",
       "      <td>Twitter for Android</td>\n",
       "      <td>0.0</td>\n",
       "      <td>0.0</td>\n",
       "      <td>True</td>\n",
       "      <td>0</td>\n",
       "      <td>...</td>\n",
       "      <td>AFINN</td>\n",
       "      <td>46.5833</td>\n",
       "      <td>26.9167</td>\n",
       "      <td>Bacău</td>\n",
       "      <td>Romania</td>\n",
       "      <td>User</td>\n",
       "      <td>Neutral</td>\n",
       "      <td>2021</td>\n",
       "      <td>08</td>\n",
       "      <td>August</td>\n",
       "    </tr>\n",
       "    <tr>\n",
       "      <th>658</th>\n",
       "      <td>55594098.0</td>\n",
       "      <td>1.430000e+18</td>\n",
       "      <td>2021-08-21</td>\n",
       "      <td>AdrianSolca</td>\n",
       "      <td>Chulada de facilitación gráfica de mi plática ...</td>\n",
       "      <td>Twitter Web App</td>\n",
       "      <td>0.0</td>\n",
       "      <td>0.0</td>\n",
       "      <td>False</td>\n",
       "      <td>8</td>\n",
       "      <td>...</td>\n",
       "      <td>AFINN</td>\n",
       "      <td>30.5667</td>\n",
       "      <td>31.5000</td>\n",
       "      <td>Az Zaqāzīq</td>\n",
       "      <td>Egypt</td>\n",
       "      <td>User</td>\n",
       "      <td>Negative</td>\n",
       "      <td>2021</td>\n",
       "      <td>08</td>\n",
       "      <td>August</td>\n",
       "    </tr>\n",
       "  </tbody>\n",
       "</table>\n",
       "<p>3 rows × 31 columns</p>\n",
       "</div>"
      ],
      "text/plain": [
       "         user_id     status_id created_at     screen_name  \\\n",
       "500   96350647.0  1.430000e+18 2021-08-17  PeterG4NES2019   \n",
       "833  380563976.0  1.430000e+18 2021-08-15     octavioq116   \n",
       "658   55594098.0  1.430000e+18 2021-08-21     AdrianSolca   \n",
       "\n",
       "                                                  text               source  \\\n",
       "500  We use 30 year averages to show climatology (a...      Twitter Web App   \n",
       "833  ¿Habrá alguien que le crea a estos idiotas que...  Twitter for Android   \n",
       "658  Chulada de facilitación gráfica de mi plática ...      Twitter Web App   \n",
       "\n",
       "     reply_to_status_id  reply_to_user_id  is_retweet  favorite_count  ...  \\\n",
       "500                 0.0               0.0        True               0  ...   \n",
       "833                 0.0               0.0        True               0  ...   \n",
       "658                 0.0               0.0       False               8  ...   \n",
       "\n",
       "     sentiment_dictionary      lat      lon         City  country  \\\n",
       "500                 AFINN  63.1775  14.6414   Östersund    Sweden   \n",
       "833                 AFINN  46.5833  26.9167       Bacău   Romania   \n",
       "658                 AFINN  30.5667  31.5000  Az Zaqāzīq     Egypt   \n",
       "\n",
       "     user_or_bot  sentiment  year month_num   month  \n",
       "500         User   Positive  2021        08  August  \n",
       "833         User    Neutral  2021        08  August  \n",
       "658         User   Negative  2021        08  August  \n",
       "\n",
       "[3 rows x 31 columns]"
      ]
     },
     "execution_count": 84,
     "metadata": {},
     "output_type": "execute_result"
    }
   ],
   "source": [
    "df.sample(3)"
   ]
  },
  {
   "cell_type": "markdown",
   "id": "e5c1ffea",
   "metadata": {},
   "source": [
    "## Standarization of Retweet and Favorite\n",
    "In order to standardize values, score should be calculated for Retweet and Favorite :\n",
    "* Score Retweet: ([retweet_count]-[Retweet_MIN])/([Retweet_MAX]-[Retweet_MIN])\n",
    "* Score Favorite: ([favorite_count]-[Favorite_MIN])/([Favorite_MAX]-[Favorite_MIN])"
   ]
  },
  {
   "cell_type": "code",
   "execution_count": 85,
   "id": "e4038c32",
   "metadata": {},
   "outputs": [],
   "source": [
    "retween_min = df['retweet_count'].min()"
   ]
  },
  {
   "cell_type": "code",
   "execution_count": 86,
   "id": "7dde7580",
   "metadata": {},
   "outputs": [],
   "source": [
    "retween_max = df['retweet_count'].max()"
   ]
  },
  {
   "cell_type": "code",
   "execution_count": 87,
   "id": "d79503e0",
   "metadata": {},
   "outputs": [],
   "source": [
    "df['score_retweet'] = (df['retweet_count'] - retween_min) / (retween_max - retween_min) "
   ]
  },
  {
   "cell_type": "code",
   "execution_count": 88,
   "id": "1f46c1a5",
   "metadata": {},
   "outputs": [],
   "source": [
    "favorite_min = df['favorite_count'].min()"
   ]
  },
  {
   "cell_type": "code",
   "execution_count": 89,
   "id": "eeaaeb9d",
   "metadata": {},
   "outputs": [],
   "source": [
    "favorite_max = df['favorite_count'].max()"
   ]
  },
  {
   "cell_type": "code",
   "execution_count": 90,
   "id": "fc15aab4",
   "metadata": {},
   "outputs": [],
   "source": [
    "df['score_favorite'] = (df['favorite_count'] - favorite_min) / (favorite_max - favorite_min)"
   ]
  },
  {
   "cell_type": "code",
   "execution_count": 91,
   "id": "fb27d9ed",
   "metadata": {
    "scrolled": true
   },
   "outputs": [
    {
     "data": {
      "text/html": [
       "<div>\n",
       "<style scoped>\n",
       "    .dataframe tbody tr th:only-of-type {\n",
       "        vertical-align: middle;\n",
       "    }\n",
       "\n",
       "    .dataframe tbody tr th {\n",
       "        vertical-align: top;\n",
       "    }\n",
       "\n",
       "    .dataframe thead th {\n",
       "        text-align: right;\n",
       "    }\n",
       "</style>\n",
       "<table border=\"1\" class=\"dataframe\">\n",
       "  <thead>\n",
       "    <tr style=\"text-align: right;\">\n",
       "      <th></th>\n",
       "      <th>user_id</th>\n",
       "      <th>status_id</th>\n",
       "      <th>created_at</th>\n",
       "      <th>screen_name</th>\n",
       "      <th>text</th>\n",
       "      <th>source</th>\n",
       "      <th>reply_to_status_id</th>\n",
       "      <th>reply_to_user_id</th>\n",
       "      <th>is_retweet</th>\n",
       "      <th>favorite_count</th>\n",
       "      <th>...</th>\n",
       "      <th>lon</th>\n",
       "      <th>City</th>\n",
       "      <th>country</th>\n",
       "      <th>user_or_bot</th>\n",
       "      <th>sentiment</th>\n",
       "      <th>year</th>\n",
       "      <th>month_num</th>\n",
       "      <th>month</th>\n",
       "      <th>score_retweet</th>\n",
       "      <th>score_favorite</th>\n",
       "    </tr>\n",
       "  </thead>\n",
       "  <tbody>\n",
       "    <tr>\n",
       "      <th>289</th>\n",
       "      <td>1.430000e+18</td>\n",
       "      <td>1.430000e+18</td>\n",
       "      <td>2021-08-13</td>\n",
       "      <td>ASAimaging</td>\n",
       "      <td>ggseg version 1.6.4 is on github. CRAN re-subm...</td>\n",
       "      <td>Twitter Web App</td>\n",
       "      <td>0.0</td>\n",
       "      <td>0.0</td>\n",
       "      <td>True</td>\n",
       "      <td>0</td>\n",
       "      <td>...</td>\n",
       "      <td>30.9000</td>\n",
       "      <td>Shibīn al Kawm</td>\n",
       "      <td>Egypt</td>\n",
       "      <td>User</td>\n",
       "      <td>Positive</td>\n",
       "      <td>2021</td>\n",
       "      <td>08</td>\n",
       "      <td>August</td>\n",
       "      <td>0.001991</td>\n",
       "      <td>0.0</td>\n",
       "    </tr>\n",
       "    <tr>\n",
       "      <th>1145</th>\n",
       "      <td>3.053979e+09</td>\n",
       "      <td>1.430000e+18</td>\n",
       "      <td>2021-08-20</td>\n",
       "      <td>ElenaOrsi76</td>\n",
       "      <td>Bella la nuova grafica di Twitter. Io proporre...</td>\n",
       "      <td>Twitter for iPhone</td>\n",
       "      <td>0.0</td>\n",
       "      <td>0.0</td>\n",
       "      <td>True</td>\n",
       "      <td>0</td>\n",
       "      <td>...</td>\n",
       "      <td>-68.5364</td>\n",
       "      <td>San Juan</td>\n",
       "      <td>Argentina</td>\n",
       "      <td>User</td>\n",
       "      <td>Positive</td>\n",
       "      <td>2021</td>\n",
       "      <td>08</td>\n",
       "      <td>August</td>\n",
       "      <td>0.013939</td>\n",
       "      <td>0.0</td>\n",
       "    </tr>\n",
       "    <tr>\n",
       "      <th>1684</th>\n",
       "      <td>1.350000e+18</td>\n",
       "      <td>1.420000e+18</td>\n",
       "      <td>2021-08-31</td>\n",
       "      <td>yasuohasagi18</td>\n",
       "      <td>Si le taux de croissance actuel des doses obli...</td>\n",
       "      <td>Twitter for Android</td>\n",
       "      <td>0.0</td>\n",
       "      <td>0.0</td>\n",
       "      <td>True</td>\n",
       "      <td>0</td>\n",
       "      <td>...</td>\n",
       "      <td>23.1667</td>\n",
       "      <td>Białystok</td>\n",
       "      <td>Poland</td>\n",
       "      <td>User</td>\n",
       "      <td>Neutral</td>\n",
       "      <td>2021</td>\n",
       "      <td>08</td>\n",
       "      <td>August</td>\n",
       "      <td>0.021505</td>\n",
       "      <td>0.0</td>\n",
       "    </tr>\n",
       "  </tbody>\n",
       "</table>\n",
       "<p>3 rows × 33 columns</p>\n",
       "</div>"
      ],
      "text/plain": [
       "           user_id     status_id created_at    screen_name  \\\n",
       "289   1.430000e+18  1.430000e+18 2021-08-13     ASAimaging   \n",
       "1145  3.053979e+09  1.430000e+18 2021-08-20    ElenaOrsi76   \n",
       "1684  1.350000e+18  1.420000e+18 2021-08-31  yasuohasagi18   \n",
       "\n",
       "                                                   text               source  \\\n",
       "289   ggseg version 1.6.4 is on github. CRAN re-subm...      Twitter Web App   \n",
       "1145  Bella la nuova grafica di Twitter. Io proporre...   Twitter for iPhone   \n",
       "1684  Si le taux de croissance actuel des doses obli...  Twitter for Android   \n",
       "\n",
       "      reply_to_status_id  reply_to_user_id  is_retweet  favorite_count  ...  \\\n",
       "289                  0.0               0.0        True               0  ...   \n",
       "1145                 0.0               0.0        True               0  ...   \n",
       "1684                 0.0               0.0        True               0  ...   \n",
       "\n",
       "          lon             City    country user_or_bot  sentiment  year  \\\n",
       "289   30.9000  Shibīn al Kawm       Egypt        User   Positive  2021   \n",
       "1145 -68.5364        San Juan   Argentina        User   Positive  2021   \n",
       "1684  23.1667       Białystok      Poland        User    Neutral  2021   \n",
       "\n",
       "      month_num   month score_retweet  score_favorite  \n",
       "289          08  August      0.001991             0.0  \n",
       "1145         08  August      0.013939             0.0  \n",
       "1684         08  August      0.021505             0.0  \n",
       "\n",
       "[3 rows x 33 columns]"
      ]
     },
     "execution_count": 91,
     "metadata": {},
     "output_type": "execute_result"
    }
   ],
   "source": [
    "df.sample(3)"
   ]
  },
  {
   "cell_type": "code",
   "execution_count": 92,
   "id": "df63cab5",
   "metadata": {},
   "outputs": [
    {
     "data": {
      "text/plain": [
       "Index(['user_id', 'status_id', 'created_at', 'screen_name', 'text', 'source',\n",
       "       'reply_to_status_id', 'reply_to_user_id', 'is_retweet',\n",
       "       'favorite_count', 'retweet_count', 'lang', 'name', 'description',\n",
       "       'followers_count', 'friends_count', 'statuses_count',\n",
       "       'favourites_count', 'account_created_at', 'verified', 'sentiment_value',\n",
       "       'sentiment_dictionary', 'lat', 'lon', 'City', 'country', 'user_or_bot',\n",
       "       'sentiment', 'year', 'month_num', 'month', 'score_retweet',\n",
       "       'score_favorite'],\n",
       "      dtype='object')"
      ]
     },
     "execution_count": 92,
     "metadata": {},
     "output_type": "execute_result"
    }
   ],
   "source": [
    "df.columns"
   ]
  },
  {
   "cell_type": "code",
   "execution_count": 93,
   "id": "9f6be165",
   "metadata": {},
   "outputs": [],
   "source": [
    "df = df.sort_values('score_retweet',ascending=False)"
   ]
  },
  {
   "cell_type": "markdown",
   "id": "a814659b",
   "metadata": {},
   "source": [
    "## Send the normalized dataset to a new csv file\n",
    "\n",
    "Once the dataframe is cleaned and normalized, it will be send as a new excel file."
   ]
  },
  {
   "cell_type": "code",
   "execution_count": 94,
   "id": "2df2a7f4",
   "metadata": {},
   "outputs": [],
   "source": [
    "# df.to_excel('twitter_clean_data.xlsx',index=False)"
   ]
  },
  {
   "cell_type": "markdown",
   "id": "2d50ee4f",
   "metadata": {},
   "source": [
    "# Preliminary Charts"
   ]
  },
  {
   "cell_type": "markdown",
   "id": "32bacec2",
   "metadata": {},
   "source": [
    "## Tweet distribution by language"
   ]
  },
  {
   "cell_type": "code",
   "execution_count": 104,
   "id": "edc0aeb0",
   "metadata": {},
   "outputs": [],
   "source": [
    "import matplotlib.pyplot as plt"
   ]
  },
  {
   "cell_type": "code",
   "execution_count": 100,
   "id": "8857484a",
   "metadata": {},
   "outputs": [],
   "source": [
    "# distribution of the tweets by language\n",
    "tweet_lang = pd.DataFrame(df.groupby('lang',as_index=False)['text'].count())"
   ]
  },
  {
   "cell_type": "code",
   "execution_count": 101,
   "id": "f8a56fbc",
   "metadata": {},
   "outputs": [],
   "source": [
    "tweet_lang['lang'] = tweet_lang['lang'].replace({'cy':'Welsh','en':'English','es':'Spanish','fr':'French','it':'Italian','pt':'Portuguese'})"
   ]
  },
  {
   "cell_type": "code",
   "execution_count": 102,
   "id": "7199a3a8",
   "metadata": {
    "scrolled": true
   },
   "outputs": [
    {
     "data": {
      "text/html": [
       "<div>\n",
       "<style scoped>\n",
       "    .dataframe tbody tr th:only-of-type {\n",
       "        vertical-align: middle;\n",
       "    }\n",
       "\n",
       "    .dataframe tbody tr th {\n",
       "        vertical-align: top;\n",
       "    }\n",
       "\n",
       "    .dataframe thead th {\n",
       "        text-align: right;\n",
       "    }\n",
       "</style>\n",
       "<table border=\"1\" class=\"dataframe\">\n",
       "  <thead>\n",
       "    <tr style=\"text-align: right;\">\n",
       "      <th></th>\n",
       "      <th>lang</th>\n",
       "      <th>text</th>\n",
       "    </tr>\n",
       "  </thead>\n",
       "  <tbody>\n",
       "    <tr>\n",
       "      <th>1</th>\n",
       "      <td>English</td>\n",
       "      <td>491</td>\n",
       "    </tr>\n",
       "    <tr>\n",
       "      <th>2</th>\n",
       "      <td>Spanish</td>\n",
       "      <td>479</td>\n",
       "    </tr>\n",
       "    <tr>\n",
       "      <th>4</th>\n",
       "      <td>Italian</td>\n",
       "      <td>442</td>\n",
       "    </tr>\n",
       "    <tr>\n",
       "      <th>3</th>\n",
       "      <td>French</td>\n",
       "      <td>312</td>\n",
       "    </tr>\n",
       "    <tr>\n",
       "      <th>0</th>\n",
       "      <td>Welsh</td>\n",
       "      <td>1</td>\n",
       "    </tr>\n",
       "    <tr>\n",
       "      <th>5</th>\n",
       "      <td>Portuguese</td>\n",
       "      <td>1</td>\n",
       "    </tr>\n",
       "  </tbody>\n",
       "</table>\n",
       "</div>"
      ],
      "text/plain": [
       "         lang  text\n",
       "1     English   491\n",
       "2     Spanish   479\n",
       "4     Italian   442\n",
       "3      French   312\n",
       "0       Welsh     1\n",
       "5  Portuguese     1"
      ]
     },
     "execution_count": 102,
     "metadata": {},
     "output_type": "execute_result"
    }
   ],
   "source": [
    "tweet_lang = tweet_lang.sort_values('text',ascending=False)\n",
    "tweet_lang"
   ]
  },
  {
   "cell_type": "code",
   "execution_count": 105,
   "id": "a68621cd",
   "metadata": {},
   "outputs": [
    {
     "data": {
      "image/png": "[encoded data removed]",
      "text/plain": [
       "<Figure size 640x480 with 1 Axes>"
      ]
     },
     "metadata": {},
     "output_type": "display_data"
    }
   ],
   "source": [
    "# distribution of the tweets by language\n",
    "plt.bar(tweet_lang['lang'],tweet_lang['text'], color=['r','b'])\n",
    "plt.show()"
   ]
  },
  {
   "cell_type": "markdown",
   "id": "56d3fa08",
   "metadata": {},
   "source": [
    "## Geographical distribution "
   ]
  },
  {
   "cell_type": "markdown",
   "id": "471481d0",
   "metadata": {},
   "source": [
    "### Creation of geometry by coordinates (lat,lon)"
   ]
  },
  {
   "cell_type": "code",
   "execution_count": 106,
   "id": "2f65e480",
   "metadata": {},
   "outputs": [],
   "source": [
    "import geopandas as gpd"
   ]
  },
  {
   "cell_type": "code",
   "execution_count": 107,
   "id": "0029fa22",
   "metadata": {},
   "outputs": [],
   "source": [
    "gdf_read = gpd.GeoDataFrame(df,geometry=gpd.points_from_xy(df.lon,df.lat))"
   ]
  },
  {
   "cell_type": "code",
   "execution_count": 108,
   "id": "d7178b3a",
   "metadata": {},
   "outputs": [],
   "source": [
    "gdf = gdf_read.copy(deep=True)"
   ]
  },
  {
   "cell_type": "code",
   "execution_count": 109,
   "id": "d620557b",
   "metadata": {
    "scrolled": false
   },
   "outputs": [
    {
     "data": {
      "text/html": [
       "<div>\n",
       "<style scoped>\n",
       "    .dataframe tbody tr th:only-of-type {\n",
       "        vertical-align: middle;\n",
       "    }\n",
       "\n",
       "    .dataframe tbody tr th {\n",
       "        vertical-align: top;\n",
       "    }\n",
       "\n",
       "    .dataframe thead th {\n",
       "        text-align: right;\n",
       "    }\n",
       "</style>\n",
       "<table border=\"1\" class=\"dataframe\">\n",
       "  <thead>\n",
       "    <tr style=\"text-align: right;\">\n",
       "      <th></th>\n",
       "      <th>user_id</th>\n",
       "      <th>status_id</th>\n",
       "      <th>created_at</th>\n",
       "      <th>screen_name</th>\n",
       "      <th>text</th>\n",
       "      <th>source</th>\n",
       "      <th>reply_to_status_id</th>\n",
       "      <th>reply_to_user_id</th>\n",
       "      <th>is_retweet</th>\n",
       "      <th>favorite_count</th>\n",
       "      <th>...</th>\n",
       "      <th>City</th>\n",
       "      <th>country</th>\n",
       "      <th>user_or_bot</th>\n",
       "      <th>sentiment</th>\n",
       "      <th>year</th>\n",
       "      <th>month_num</th>\n",
       "      <th>month</th>\n",
       "      <th>score_retweet</th>\n",
       "      <th>score_favorite</th>\n",
       "      <th>geometry</th>\n",
       "    </tr>\n",
       "  </thead>\n",
       "  <tbody>\n",
       "    <tr>\n",
       "      <th>712</th>\n",
       "      <td>1.370000e+18</td>\n",
       "      <td>1.430000e+18</td>\n",
       "      <td>2021-08-23</td>\n",
       "      <td>carmen_borbaran</td>\n",
       "      <td>La Clínica Las Condes demandando a su ex direc...</td>\n",
       "      <td>Twitter for iPhone</td>\n",
       "      <td>0.0</td>\n",
       "      <td>0.0</td>\n",
       "      <td>True</td>\n",
       "      <td>0</td>\n",
       "      <td>...</td>\n",
       "      <td>Gävle</td>\n",
       "      <td>Sweden</td>\n",
       "      <td>User</td>\n",
       "      <td>Positive</td>\n",
       "      <td>2021</td>\n",
       "      <td>08</td>\n",
       "      <td>August</td>\n",
       "      <td>1.000000</td>\n",
       "      <td>0.0</td>\n",
       "      <td>POINT (17.16660 60.66700)</td>\n",
       "    </tr>\n",
       "    <tr>\n",
       "      <th>308</th>\n",
       "      <td>8.980000e+17</td>\n",
       "      <td>1.430000e+18</td>\n",
       "      <td>2021-08-29</td>\n",
       "      <td>GadioOumoul</td>\n",
       "      <td>We analyzed air quality data gathered by the @...</td>\n",
       "      <td>Twitter Web App</td>\n",
       "      <td>0.0</td>\n",
       "      <td>0.0</td>\n",
       "      <td>True</td>\n",
       "      <td>0</td>\n",
       "      <td>...</td>\n",
       "      <td>Castlebar</td>\n",
       "      <td>Ireland</td>\n",
       "      <td>User</td>\n",
       "      <td>Positive</td>\n",
       "      <td>2021</td>\n",
       "      <td>08</td>\n",
       "      <td>August</td>\n",
       "      <td>0.990442</td>\n",
       "      <td>0.0</td>\n",
       "      <td>POINT (-9.30000 53.85000)</td>\n",
       "    </tr>\n",
       "    <tr>\n",
       "      <th>67</th>\n",
       "      <td>1.340000e+18</td>\n",
       "      <td>1.430000e+18</td>\n",
       "      <td>2021-08-06</td>\n",
       "      <td>iPythonistaBot</td>\n",
       "      <td>We analyzed air quality data gathered by the @...</td>\n",
       "      <td>Pythonista Bot</td>\n",
       "      <td>0.0</td>\n",
       "      <td>0.0</td>\n",
       "      <td>True</td>\n",
       "      <td>0</td>\n",
       "      <td>...</td>\n",
       "      <td>Miskolc</td>\n",
       "      <td>Hungary</td>\n",
       "      <td>Bot</td>\n",
       "      <td>Negative</td>\n",
       "      <td>2021</td>\n",
       "      <td>08</td>\n",
       "      <td>August</td>\n",
       "      <td>0.990442</td>\n",
       "      <td>0.0</td>\n",
       "      <td>POINT (20.78330 48.10000)</td>\n",
       "    </tr>\n",
       "  </tbody>\n",
       "</table>\n",
       "<p>3 rows × 34 columns</p>\n",
       "</div>"
      ],
      "text/plain": [
       "          user_id     status_id created_at      screen_name  \\\n",
       "712  1.370000e+18  1.430000e+18 2021-08-23  carmen_borbaran   \n",
       "308  8.980000e+17  1.430000e+18 2021-08-29      GadioOumoul   \n",
       "67   1.340000e+18  1.430000e+18 2021-08-06   iPythonistaBot   \n",
       "\n",
       "                                                  text              source  \\\n",
       "712  La Clínica Las Condes demandando a su ex direc...  Twitter for iPhone   \n",
       "308  We analyzed air quality data gathered by the @...     Twitter Web App   \n",
       "67   We analyzed air quality data gathered by the @...      Pythonista Bot   \n",
       "\n",
       "     reply_to_status_id  reply_to_user_id  is_retweet  favorite_count  ...  \\\n",
       "712                 0.0               0.0        True               0  ...   \n",
       "308                 0.0               0.0        True               0  ...   \n",
       "67                  0.0               0.0        True               0  ...   \n",
       "\n",
       "           City  country user_or_bot sentiment  year  month_num   month  \\\n",
       "712      Gävle    Sweden        User  Positive  2021         08  August   \n",
       "308  Castlebar   Ireland        User  Positive  2021         08  August   \n",
       "67     Miskolc   Hungary         Bot  Negative  2021         08  August   \n",
       "\n",
       "     score_retweet score_favorite                   geometry  \n",
       "712       1.000000            0.0  POINT (17.16660 60.66700)  \n",
       "308       0.990442            0.0  POINT (-9.30000 53.85000)  \n",
       "67        0.990442            0.0  POINT (20.78330 48.10000)  \n",
       "\n",
       "[3 rows x 34 columns]"
      ]
     },
     "execution_count": 109,
     "metadata": {},
     "output_type": "execute_result"
    }
   ],
   "source": [
    "gdf.head(3)"
   ]
  },
  {
   "cell_type": "markdown",
   "id": "214856e3",
   "metadata": {},
   "source": [
    "## Distribution of tweets in Mexico "
   ]
  },
  {
   "cell_type": "code",
   "execution_count": 111,
   "id": "3aca70b5",
   "metadata": {
    "scrolled": true
   },
   "outputs": [
    {
     "data": {
      "image/png": "[encoded data removed]",
      "text/plain": [
       "<Figure size 800x600 with 1 Axes>"
      ]
     },
     "metadata": {},
     "output_type": "display_data"
    }
   ],
   "source": [
    "# initialize an axis\n",
    "fig, ax = plt.subplots(figsize=(8,6))\n",
    "\n",
    "# plot map on axis\n",
    "countries = gpd.read_file(gpd.datasets.get_path(\"naturalearth_lowres\"))\n",
    "\n",
    "countries[countries[\"name\"] == \"Mexico\"].plot(color=\"#fae7b5\", ax=ax)\n",
    "\n",
    "# plot points\n",
    "gdf[gdf['country'] == 'Mexico'].plot(color='g',ax=ax)\n",
    "\n",
    "plt.show()"
   ]
  },
  {
   "cell_type": "markdown",
   "id": "43e280af",
   "metadata": {},
   "source": [
    "## Conclusion\n",
    "\n",
    "For the Data Gathering & Transformation process, it was:\n",
    "* Replaced NaN values from the dataset\n",
    "* Formatted columns's date: created_at and account_created_at. Created new fields that stores year and month data\n",
    "* Created the filter *user_or_bot* by identifying the tweet's source type taken the source field as an input\n",
    "* Split City values into City and country fields\n",
    "* Replaced a one invalid location description, located at Ecuador\n",
    "* Renamed the column 'lng' to 'lon' to create the geometry \n",
    "* Created a sentiment classification by Positive, Negative and Neutral taken Sentiment_value field as an input\n",
    "* Setted booleans in the is_retweet field\n",
    "* It was normalized the values of retweet_count and favorite_count\n",
    "* It was created a new dataset with the previuos outcomes.\n",
    "* Created a bar chart to visualize the distribution of tweets by language\n",
    "* Created a geographical chart to visualize the distribution of tweets created in Mexico"
   ]
  },
  {
   "cell_type": "markdown",
   "id": "f81f52c1",
   "metadata": {},
   "source": [
    "# Next Step\n",
    "\n",
    "Go to Tableau and plot data by recreating the required dashboard\n",
    "\n",
    "[Tableau Dashboard](https://public.tableau.com/app/profile/ricardosaldivar/viz/ConferenceCandidates/Dashboard1?publish=yes)"
   ]
  },
  {
   "cell_type": "markdown",
   "id": "29748323",
   "metadata": {},
   "source": [
    "## References\n",
    "\n",
    "- [The easiest way to plot data from Pandas on a world map](https://towardsdatascience.com/the-easiest-way-to-plot-data-from-pandas-on-a-world-map-1a62962a27f3)\n",
    "- [Creating a GeoDataFrame from a DataFrame with coordinates](https://geopandas.org/en/stable/gallery/create_geopandas_from_pandas.html)\n",
    "- [Mapping and Plotting Tools](https://geopandas.org/en/stable/docs/user_guide/mapping.html)\n",
    "- [ISO Language Code Table](http://www.lingoes.net/en/translator/langcode.htm)"
   ]
  },
  {
   "cell_type": "code",
   "execution_count": null,
   "id": "d613cf49",
   "metadata": {},
   "outputs": [],
   "source": []
  }
 ],
 "metadata": {
  "kernelspec": {
   "display_name": "Python 3 (ipykernel)",
   "language": "python",
   "name": "python3"
  },
  "language_info": {
   "codemirror_mode": {
    "name": "ipython",
    "version": 3
   },
   "file_extension": ".py",
   "mimetype": "text/x-python",
   "name": "python",
   "nbconvert_exporter": "python",
   "pygments_lexer": "ipython3",
   "version": "3.9.12"
  }
 },
 "nbformat": 4,
 "nbformat_minor": 5
}
