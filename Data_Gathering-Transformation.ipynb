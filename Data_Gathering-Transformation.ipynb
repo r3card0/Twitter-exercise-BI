{
 "cells": [
  {
   "cell_type": "code",
   "execution_count": 1,
   "id": "e5b324ab",
   "metadata": {},
   "outputs": [],
   "source": [
    "# Libraries\n",
    "import pandas as pd\n",
    "from paths_ import Path"
   ]
  },
  {
   "cell_type": "markdown",
   "id": "b532445a",
   "metadata": {},
   "source": [
    "## read dataset"
   ]
  },
  {
   "cell_type": "code",
   "execution_count": 2,
   "id": "806ba4f7",
   "metadata": {},
   "outputs": [],
   "source": [
    "twitter = Path().readfile()"
   ]
  },
  {
   "cell_type": "code",
   "execution_count": 7,
   "id": "9c573b29",
   "metadata": {},
   "outputs": [],
   "source": [
    "#print(twitter)"
   ]
  },
  {
   "cell_type": "markdown",
   "id": "a73e8085",
   "metadata": {},
   "source": [
    "## Create dataframe"
   ]
  },
  {
   "cell_type": "code",
   "execution_count": 4,
   "id": "048683e6",
   "metadata": {},
   "outputs": [],
   "source": [
    "df_read = pd.read_csv(twitter)\n",
    "df = df_read.copy(deep=True)"
   ]
  },
  {
   "cell_type": "markdown",
   "id": "fb92f351",
   "metadata": {},
   "source": [
    "## Data Gathering & Transformation"
   ]
  },
  {
   "cell_type": "code",
   "execution_count": 6,
   "id": "27eb120e",
   "metadata": {},
   "outputs": [
    {
     "data": {
      "text/plain": [
       "(1726, 25)"
      ]
     },
     "execution_count": 6,
     "metadata": {},
     "output_type": "execute_result"
    }
   ],
   "source": [
    "df.shape"
   ]
  },
  {
   "cell_type": "code",
   "execution_count": 9,
   "id": "5ccb7a95",
   "metadata": {},
   "outputs": [
    {
     "data": {
      "text/plain": [
       "Index(['user_id', 'status_id', 'created_at', 'screen_name', 'text', 'source',\n",
       "       'reply_to_status_id', 'reply_to_user_id', 'is_retweet',\n",
       "       'favorite_count', 'retweet_count', 'lang', 'name', 'description',\n",
       "       'followers_count', 'friends_count', 'statuses_count',\n",
       "       'favourites_count', 'account_created_at', 'verified', 'sentiment_value',\n",
       "       'sentiment_dictionary', 'lat', 'lng', 'City'],\n",
       "      dtype='object')"
      ]
     },
     "execution_count": 9,
     "metadata": {},
     "output_type": "execute_result"
    }
   ],
   "source": [
    "df.columns"
   ]
  },
  {
   "cell_type": "code",
   "execution_count": 10,
   "id": "4d81c919",
   "metadata": {},
   "outputs": [
    {
     "data": {
      "text/plain": [
       "user_id                 float64\n",
       "status_id               float64\n",
       "created_at               object\n",
       "screen_name              object\n",
       "text                     object\n",
       "source                   object\n",
       "reply_to_status_id      float64\n",
       "reply_to_user_id        float64\n",
       "is_retweet                int64\n",
       "favorite_count            int64\n",
       "retweet_count             int64\n",
       "lang                     object\n",
       "name                     object\n",
       "description              object\n",
       "followers_count           int64\n",
       "friends_count             int64\n",
       "statuses_count            int64\n",
       "favourites_count          int64\n",
       "account_created_at       object\n",
       "verified                  int64\n",
       "sentiment_value           int64\n",
       "sentiment_dictionary     object\n",
       "lat                     float64\n",
       "lng                     float64\n",
       "City                     object\n",
       "dtype: object"
      ]
     },
     "execution_count": 10,
     "metadata": {},
     "output_type": "execute_result"
    }
   ],
   "source": [
    "# df.dtypes"
   ]
  },
  {
   "cell_type": "code",
   "execution_count": 34,
   "id": "3d291880",
   "metadata": {},
   "outputs": [],
   "source": [
    "# df['source'].unique()"
   ]
  },
  {
   "cell_type": "code",
   "execution_count": null,
   "id": "99956c9a",
   "metadata": {},
   "outputs": [],
   "source": [
    "# determinar si hay valores nulos\n"
   ]
  }
 ],
 "metadata": {
  "kernelspec": {
   "display_name": "Python 3 (ipykernel)",
   "language": "python",
   "name": "python3"
  },
  "language_info": {
   "codemirror_mode": {
    "name": "ipython",
    "version": 3
   },
   "file_extension": ".py",
   "mimetype": "text/x-python",
   "name": "python",
   "nbconvert_exporter": "python",
   "pygments_lexer": "ipython3",
   "version": "3.9.12"
  }
 },
 "nbformat": 4,
 "nbformat_minor": 5
}
